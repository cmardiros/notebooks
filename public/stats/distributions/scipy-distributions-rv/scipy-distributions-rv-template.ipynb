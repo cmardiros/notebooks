{
 "cells": [
  {
   "cell_type": "code",
   "execution_count": null,
   "metadata": {
    "ExecuteTime": {
     "end_time": "2018-03-22T10:22:54.945911Z",
     "start_time": "2018-03-22T10:22:54.725758Z"
    }
   },
   "outputs": [],
   "source": [
    "%load_ext autoreload\n",
    "%autoreload 2\n",
    "%matplotlib inline"
   ]
  },
  {
   "cell_type": "code",
   "execution_count": null,
   "metadata": {
    "ExecuteTime": {
     "end_time": "2018-03-22T10:22:55.300265Z",
     "start_time": "2018-03-22T10:22:54.947396Z"
    }
   },
   "outputs": [],
   "source": [
    "import numpy as np\n",
    "import seaborn as sns\n",
    "from scipy import stats\n",
    "import matplotlib.pyplot as plt\n",
    "import matplotlib as mpl\n",
    "import seabornextends as snsexts\n",
    "import faker\n",
    "from faker import utils\n",
    "from seabornextends import plots, retouch\n",
    "from seabornextends.retouch import grid, ax, fig"
   ]
  },
  {
   "cell_type": "code",
   "execution_count": null,
   "metadata": {
    "ExecuteTime": {
     "end_time": "2018-03-22T10:22:55.314807Z",
     "start_time": "2018-03-22T10:22:55.301735Z"
    }
   },
   "outputs": [],
   "source": [
    "sns.set_style('whitegrid')\n",
    "mpl.rcParams['grid.color'] = '0.95'\n",
    "mpl.rcParams['grid.alpha'] = 0.8\n",
    "mpl.rcParams['font.family'] = 'Roboto Condensed'"
   ]
  },
  {
   "cell_type": "markdown",
   "metadata": {},
   "source": [
    "# Develop intuitive understanding of common distributions"
   ]
  },
  {
   "cell_type": "markdown",
   "metadata": {},
   "source": [
    "## Parameters"
   ]
  },
  {
   "cell_type": "code",
   "execution_count": null,
   "metadata": {
    "ExecuteTime": {
     "end_time": "2018-03-22T10:22:55.342469Z",
     "start_time": "2018-03-22T10:22:55.316287Z"
    }
   },
   "outputs": [],
   "source": [
    "# default parameters for this template\n",
    "# (these are overriden during dynamic notebook execution)\n",
    "dist_family = 'norm'\n",
    "kind = 'continuous'\n",
    "\n",
    "# default shape\n",
    "default_shape_kws = {'loc': 0, 'scale': 1}\n",
    "\n",
    "# grid of shapes\n",
    "shape_grid = {\n",
    "    'loc': [2, 4, 6],\n",
    "    'scale': [3, 6, 9]\n",
    "}\n",
    "\n",
    "# for plotting\n",
    "row = 'loc'\n",
    "col = 'scale'\n",
    "sharex = True\n",
    "sharey = True\n",
    "kde = True\n",
    "\n",
    "# params for creating evenly spaced probabilities\n",
    "LO_PROB = 0.001\n",
    "HI_PROB = 0.999\n",
    "n_prob_linspace = 1000\n",
    "\n",
    "# common lo/hi probabilities\n",
    "lo_p = 0.025\n",
    "hi_p = 0.975\n",
    "\n",
    "# list of common probabilities\n",
    "common_probs = [0.01, 0.025, 0.05, 0.1, 0.4, 0.5, 0.6, 0.9, 0.95, 0.975, 0.99]"
   ]
  },
  {
   "cell_type": "markdown",
   "metadata": {},
   "source": [
    "## Get distribution function from scipy"
   ]
  },
  {
   "cell_type": "code",
   "execution_count": null,
   "metadata": {
    "ExecuteTime": {
     "end_time": "2018-03-22T10:22:55.362743Z",
     "start_time": "2018-03-22T10:22:55.343983Z"
    }
   },
   "outputs": [],
   "source": [
    "dist_func = getattr(stats, dist_family)\n",
    "dist_func"
   ]
  },
  {
   "cell_type": "markdown",
   "metadata": {},
   "source": [
    "## Compare this distribution in different shapes"
   ]
  },
  {
   "cell_type": "markdown",
   "metadata": {},
   "source": [
    "Generate random samples from this distribution in different shapes (of size `iters` each):"
   ]
  },
  {
   "cell_type": "code",
   "execution_count": null,
   "metadata": {
    "ExecuteTime": {
     "end_time": "2018-03-22T10:22:58.221538Z",
     "start_time": "2018-03-22T10:22:55.365421Z"
    }
   },
   "outputs": [],
   "source": [
    "df = faker.utils.stacked_from_function(func=getattr(dist_func, 'rvs'),\n",
    "                                       param_grid=shape_grid,\n",
    "                                       col_names=['random_value'],\n",
    "                                       iters=10000,\n",
    "                                       seed=12345)"
   ]
  },
  {
   "cell_type": "code",
   "execution_count": null,
   "metadata": {
    "ExecuteTime": {
     "end_time": "2018-03-22T10:23:00.177511Z",
     "start_time": "2018-03-22T10:22:58.223152Z"
    }
   },
   "outputs": [],
   "source": [
    "grid = snsexts.plots.distplot(a='random_value',\n",
    "                              data=df,\n",
    "                              row=row,\n",
    "                              col=col,\n",
    "                              sharex=sharex,\n",
    "                              sharey=sharey,\n",
    "                              distplot_kws={'hist': True, 'kde': kde})\n",
    "retoucher = retouch.grid.FacetGridRetoucher(grid)\n",
    "retoucher.fig.set_dpi(300)"
   ]
  },
  {
   "cell_type": "markdown",
   "metadata": {},
   "source": [
    "## Instantiate a distribution"
   ]
  },
  {
   "cell_type": "code",
   "execution_count": null,
   "metadata": {
    "ExecuteTime": {
     "end_time": "2018-03-22T10:23:00.193973Z",
     "start_time": "2018-03-22T10:23:00.178943Z"
    }
   },
   "outputs": [],
   "source": [
    "mydist = dist_func(**default_shape_kws)\n",
    "mydist"
   ]
  },
  {
   "cell_type": "markdown",
   "metadata": {},
   "source": [
    "In order to make this notebook work for both continuous and discrete distributions\n",
    "we create a common alias for PDF/PMF."
   ]
  },
  {
   "cell_type": "code",
   "execution_count": null,
   "metadata": {
    "ExecuteTime": {
     "end_time": "2018-03-22T10:23:00.221485Z",
     "start_time": "2018-03-22T10:23:00.195448Z"
    }
   },
   "outputs": [],
   "source": [
    "if kind == 'continuous':\n",
    "    pf = mydist.pdf\n",
    "    pfname = 'PDF'\n",
    "    pfdesc = 'Probability Density Function'\n",
    "    logpf = mydist.logpdf\n",
    "    logpfname = 'Log PDF'\n",
    "    logpfdesc = 'Log Probability Density Function'\n",
    "    \n",
    "elif kind == 'discrete':\n",
    "    pf = mydist.pmf\n",
    "    pfname = 'PMF'\n",
    "    pfdesc = 'Probability Mass Function'\n",
    "    \n",
    "    logpf = mydist.logpmf\n",
    "    logpfname = 'Log PMF'\n",
    "    logpfdesc = 'Log Probability Mass Function'    "
   ]
  },
  {
   "cell_type": "markdown",
   "metadata": {},
   "source": [
    "Moments:"
   ]
  },
  {
   "cell_type": "code",
   "execution_count": null,
   "metadata": {
    "ExecuteTime": {
     "end_time": "2018-03-22T10:23:00.243333Z",
     "start_time": "2018-03-22T10:23:00.223652Z"
    }
   },
   "outputs": [],
   "source": [
    "mean, var, skew, kurt = mydist.stats(moments='mvsk')\n",
    "print(\"mean: \", mean)\n",
    "print(\"var: \", var)\n",
    "print(\"skew: \", skew)\n",
    "print(\"kurt: \", kurt)"
   ]
  },
  {
   "cell_type": "markdown",
   "metadata": {},
   "source": [
    "### Generate evenly spaced probabilities"
   ]
  },
  {
   "cell_type": "markdown",
   "metadata": {},
   "source": [
    "Generate a list of evenly spaced probabilities:"
   ]
  },
  {
   "cell_type": "code",
   "execution_count": null,
   "metadata": {
    "ExecuteTime": {
     "end_time": "2018-03-22T10:23:00.262820Z",
     "start_time": "2018-03-22T10:23:00.245314Z"
    }
   },
   "outputs": [],
   "source": [
    "prob_linspace = np.linspace(start=LO_PROB, stop=HI_PROB, num=n_prob_linspace)\n",
    "prob_linspace[0:5], prob_linspace[-5:]"
   ]
  },
  {
   "cell_type": "markdown",
   "metadata": {},
   "source": [
    "Get _quantiles_ corresponding to probabilities in `prob_linspace`"
   ]
  },
  {
   "cell_type": "code",
   "execution_count": null,
   "metadata": {
    "ExecuteTime": {
     "end_time": "2018-03-22T10:23:00.282148Z",
     "start_time": "2018-03-22T10:23:00.264976Z"
    }
   },
   "outputs": [],
   "source": [
    "quantiles = mydist.ppf(prob_linspace)\n",
    "quantiles[0:5], quantiles[-5:]"
   ]
  },
  {
   "cell_type": "markdown",
   "metadata": {},
   "source": [
    "## Generate random numbers from this distribution"
   ]
  },
  {
   "cell_type": "code",
   "execution_count": null,
   "metadata": {
    "ExecuteTime": {
     "end_time": "2018-03-22T10:23:00.303108Z",
     "start_time": "2018-03-22T10:23:00.283422Z"
    },
    "scrolled": true
   },
   "outputs": [],
   "source": [
    "rands = mydist.rvs(size=100000)\n",
    "rands[0:5]"
   ]
  },
  {
   "cell_type": "code",
   "execution_count": null,
   "metadata": {
    "ExecuteTime": {
     "end_time": "2018-03-22T10:23:00.582061Z",
     "start_time": "2018-03-22T10:23:00.304479Z"
    },
    "scrolled": false
   },
   "outputs": [],
   "source": [
    "ax = sns.distplot(rands)\n",
    "ax.axvline(np.mean(rands), label='mean: {0:.5f}'.format(np.mean(rands)), color='C3')\n",
    "ax.axvline(np.median(rands), label='median: {0:.5f}'.format(np.median(rands)), color='C3', ls='dashed')\n",
    "ax.axvline(mydist.mean(), label='mean of frozen dist: {0:.5f}'.format(mydist.mean()), color='C4')\n",
    "plt.legend(bbox_to_anchor=(1, 1), loc='upper left')\n",
    "plt.gcf().set_dpi(150)"
   ]
  },
  {
   "cell_type": "markdown",
   "metadata": {},
   "source": [
    "## Probabilty Density Function / Probability Mass Function"
   ]
  },
  {
   "cell_type": "markdown",
   "metadata": {},
   "source": [
    "Take a `quantile` as input and return a _point evaluated_ `probability`.\n",
    "\n",
    "**NOTE**: for normal distribution with mean different to 0 and std different to 1, quantile is a value x (e.g. 1160) _and not_ the standardised version of that value.\n",
    "\n",
    "To be a **valid pdf/pmf**, a function must satisfy:\n",
    "* It must be larger than or equal to zero everywhere (a value must be possible).\n",
    "* The total area under it must be one."
   ]
  },
  {
   "cell_type": "code",
   "execution_count": null,
   "metadata": {
    "ExecuteTime": {
     "end_time": "2018-03-22T10:23:00.609622Z",
     "start_time": "2018-03-22T10:23:00.583487Z"
    }
   },
   "outputs": [],
   "source": [
    "probs = common_probs\n",
    "for p in probs:\n",
    "    print(\"{n} evaluated at quantile {q:.3f} -- which marks {cdf:.3f} CDF probability in distribution -- is {logpf:.3f} (evaluated at that point only).\".format(\n",
    "        q=mydist.ppf(p),\n",
    "        n=pfname,\n",
    "        cdf=mydist.cdf(mydist.ppf(p)),\n",
    "        logpf=pf(mydist.ppf(p))))"
   ]
  },
  {
   "cell_type": "markdown",
   "metadata": {},
   "source": [
    "We evaluate a list of quantiles and return their **probability density function estimate** (point-estimates only). \n",
    "\n",
    "In the standard normal, quantiles at the extremes of the distribution have very low probability while quantiles in the middle of the distribution have very high probability."
   ]
  },
  {
   "cell_type": "code",
   "execution_count": null,
   "metadata": {
    "ExecuteTime": {
     "end_time": "2018-03-22T10:23:00.627126Z",
     "start_time": "2018-03-22T10:23:00.611568Z"
    }
   },
   "outputs": [],
   "source": [
    "estimates = pf(mydist.ppf(prob_linspace))"
   ]
  },
  {
   "cell_type": "code",
   "execution_count": null,
   "metadata": {
    "ExecuteTime": {
     "end_time": "2018-03-22T10:23:00.641588Z",
     "start_time": "2018-03-22T10:23:00.628467Z"
    }
   },
   "outputs": [],
   "source": [
    "mydist.ppf(prob_linspace)[0:5], estimates[0:5]"
   ]
  },
  {
   "cell_type": "code",
   "execution_count": null,
   "metadata": {
    "ExecuteTime": {
     "end_time": "2018-03-22T10:23:00.655739Z",
     "start_time": "2018-03-22T10:23:00.642950Z"
    }
   },
   "outputs": [],
   "source": [
    "mydist.ppf(prob_linspace)[-5:], estimates[-5:]"
   ]
  },
  {
   "cell_type": "code",
   "execution_count": null,
   "metadata": {
    "ExecuteTime": {
     "end_time": "2018-03-22T10:23:00.866254Z",
     "start_time": "2018-03-22T10:23:00.657119Z"
    }
   },
   "outputs": [],
   "source": [
    "# plot\n",
    "fig, ax = plt.subplots(1, 1)\n",
    "\n",
    "# function\n",
    "ax.plot(mydist.ppf(prob_linspace),\n",
    "        pf(mydist.ppf(prob_linspace)),\n",
    "        lw=3,\n",
    "        alpha=0.6,\n",
    "        color='black',\n",
    "        label='{0} {1}'.format(dist_family, pfname))\n",
    "\n",
    "# lo_p\n",
    "\n",
    "ax.vlines(x=mydist.ppf(lo_p),\n",
    "          ymin=0,\n",
    "          ymax=pf(mydist.ppf(lo_p)),\n",
    "          colors='C3',\n",
    "          alpha=1,\n",
    "          label='point probability estimate for quantile {q:.3f} is {p:.3f}'.format(p=pf(mydist.ppf(lo_p)),\n",
    "                                                                                    q=mydist.ppf(lo_p)))\n",
    "\n",
    "ax.fill_between(x=mydist.ppf(prob_linspace[np.where((prob_linspace >= LO_PROB) &\n",
    "                                                    (prob_linspace <= lo_p))]),\n",
    "                y1=pf(mydist.ppf(prob_linspace[np.where((prob_linspace >= LO_PROB) &\n",
    "                                                        (prob_linspace <= lo_p))])),\n",
    "                color='C3',\n",
    "                alpha=0.1)\n",
    "\n",
    "# hi_p\n",
    "ax.vlines(x=mydist.ppf(hi_p),\n",
    "          ymin=0,\n",
    "          ymax=pf(mydist.ppf(hi_p)),\n",
    "          color='C0',\n",
    "          alpha=1,\n",
    "          label='point probability estimate for quantile {q:.3f} is {p:.3f}'.format(p=pf(mydist.ppf(hi_p)),\n",
    "                                                                                    q=mydist.ppf(hi_p)))\n",
    "\n",
    "\n",
    "ax.fill_between(x=mydist.ppf(prob_linspace[np.where((prob_linspace >= hi_p) &\n",
    "                                                    (prob_linspace <= HI_PROB))]),\n",
    "                y1=pf(mydist.ppf(prob_linspace[np.where((prob_linspace >= hi_p) &\n",
    "                                                        (prob_linspace <= HI_PROB))])),\n",
    "                color='C0',\n",
    "                alpha=0.1)\n",
    "\n",
    "plt.legend(bbox_to_anchor=(1, 1), loc='upper left')\n",
    "plt.gcf().set_dpi(150)"
   ]
  },
  {
   "cell_type": "markdown",
   "metadata": {},
   "source": [
    "## Log Probabilty Density Function / Probability Mass Function"
   ]
  },
  {
   "cell_type": "code",
   "execution_count": null,
   "metadata": {
    "ExecuteTime": {
     "end_time": "2018-03-22T10:23:00.892771Z",
     "start_time": "2018-03-22T10:23:00.868371Z"
    }
   },
   "outputs": [],
   "source": [
    "probs = common_probs\n",
    "for p in probs:\n",
    "    print(\"{n} evaluated at quantile {q:.3f} -- which marks {cdf:.3f} CDF probability in distribution -- is {logpf:.3f} (evaluated at that point only).\".format(\n",
    "        q=mydist.ppf(p),\n",
    "        n=logpfname,\n",
    "        cdf=mydist.cdf(mydist.ppf(p)),\n",
    "        logpf=logpf(mydist.ppf(p))))"
   ]
  },
  {
   "cell_type": "code",
   "execution_count": null,
   "metadata": {
    "ExecuteTime": {
     "end_time": "2018-03-22T10:23:00.909373Z",
     "start_time": "2018-03-22T10:23:00.894082Z"
    }
   },
   "outputs": [],
   "source": [
    "estimates = logpf(mydist.ppf(prob_linspace))"
   ]
  },
  {
   "cell_type": "code",
   "execution_count": null,
   "metadata": {
    "ExecuteTime": {
     "end_time": "2018-03-22T10:23:00.924754Z",
     "start_time": "2018-03-22T10:23:00.910795Z"
    }
   },
   "outputs": [],
   "source": [
    "mydist.ppf(prob_linspace)[0:5], estimates[0:5]"
   ]
  },
  {
   "cell_type": "code",
   "execution_count": null,
   "metadata": {
    "ExecuteTime": {
     "end_time": "2018-03-22T10:23:00.939875Z",
     "start_time": "2018-03-22T10:23:00.926174Z"
    }
   },
   "outputs": [],
   "source": [
    "mydist.ppf(prob_linspace)[-5:], estimates[-5:]"
   ]
  },
  {
   "cell_type": "code",
   "execution_count": null,
   "metadata": {
    "ExecuteTime": {
     "end_time": "2018-03-22T10:23:01.147247Z",
     "start_time": "2018-03-22T10:23:00.941449Z"
    }
   },
   "outputs": [],
   "source": [
    "# plot\n",
    "fig, ax = plt.subplots(1, 1)\n",
    "\n",
    "# function\n",
    "ax.plot(mydist.ppf(prob_linspace),\n",
    "        logpf(mydist.ppf(prob_linspace)),\n",
    "        lw=3,\n",
    "        alpha=0.6,\n",
    "        color='black',\n",
    "        label='{0} {1}'.format(dist_family, pfname))\n",
    "\n",
    "# lo_p\n",
    "\n",
    "ax.vlines(x=mydist.ppf(lo_p),\n",
    "          ymin=0,\n",
    "          ymax=logpf(mydist.ppf(lo_p)),\n",
    "          colors='C3',\n",
    "          alpha=1,\n",
    "          label='point probability estimate for quantile {q:.3f} is {p:.3f}'.format(p=logpf(mydist.ppf(lo_p)),\n",
    "                                                                                    q=mydist.ppf(lo_p)))\n",
    "\n",
    "ax.fill_between(x=mydist.ppf(prob_linspace[np.where((prob_linspace >= LO_PROB) &\n",
    "                                                    (prob_linspace <= lo_p))]),\n",
    "                y1=logpf(mydist.ppf(prob_linspace[np.where((prob_linspace >= LO_PROB) &\n",
    "                                                        (prob_linspace <= lo_p))])),\n",
    "                color='C3',\n",
    "                alpha=0.1)\n",
    "\n",
    "# hi_p\n",
    "ax.vlines(x=mydist.ppf(hi_p),\n",
    "          ymin=0,\n",
    "          ymax=logpf(mydist.ppf(hi_p)),\n",
    "          color='C0',\n",
    "          alpha=1,\n",
    "          label='point probability estimate for quantile {q:.3f} is {p:.3f}'.format(p=logpf(mydist.ppf(hi_p)),\n",
    "                                                                                    q=mydist.ppf(hi_p)))\n",
    "\n",
    "\n",
    "ax.fill_between(x=mydist.ppf(prob_linspace[np.where((prob_linspace >= hi_p) &\n",
    "                                                    (prob_linspace <= HI_PROB))]),\n",
    "                y1=logpf(mydist.ppf(prob_linspace[np.where((prob_linspace >= hi_p) &\n",
    "                                                        (prob_linspace <= HI_PROB))])),\n",
    "                color='C0',\n",
    "                alpha=0.1)\n",
    "\n",
    "plt.legend(bbox_to_anchor=(1, 1), loc='upper left')\n",
    "plt.gcf().set_dpi(150)"
   ]
  },
  {
   "cell_type": "markdown",
   "metadata": {},
   "source": [
    "## PPF (Percent Point Function or Quantile Function)"
   ]
  },
  {
   "cell_type": "markdown",
   "metadata": {},
   "source": [
    "Take a _lower tail_ `probability` as input and return a `quantile` (inverse of `CDF`).\n",
    "\n",
    "It answers questions such as `What is the value below which 97.5% of distribution falls under?`"
   ]
  },
  {
   "cell_type": "code",
   "execution_count": null,
   "metadata": {
    "ExecuteTime": {
     "end_time": "2018-03-22T10:23:01.165357Z",
     "start_time": "2018-03-22T10:23:01.149290Z"
    }
   },
   "outputs": [],
   "source": [
    "probs = [0.025, 0.5, 0.975]\n",
    "for p in probs:\n",
    "     print(\"Quantile corresponding to {p} lower tail probability is {q:.3f} ({p:.1%} of values are lower than or equal to {q:.3f})\".format(\n",
    "         p=p,\n",
    "         q=mydist.ppf(p)))"
   ]
  },
  {
   "cell_type": "markdown",
   "metadata": {},
   "source": [
    "Calculate quantiles corresponding to list of _lower tail_ probabilities:"
   ]
  },
  {
   "cell_type": "code",
   "execution_count": null,
   "metadata": {
    "ExecuteTime": {
     "end_time": "2018-03-22T10:23:01.178251Z",
     "start_time": "2018-03-22T10:23:01.166674Z"
    },
    "scrolled": true
   },
   "outputs": [],
   "source": [
    "estimates = mydist.ppf(prob_linspace)"
   ]
  },
  {
   "cell_type": "code",
   "execution_count": null,
   "metadata": {
    "ExecuteTime": {
     "end_time": "2018-03-22T10:23:01.192147Z",
     "start_time": "2018-03-22T10:23:01.179650Z"
    }
   },
   "outputs": [],
   "source": [
    "prob_linspace[0:5], estimates[0:5]"
   ]
  },
  {
   "cell_type": "code",
   "execution_count": null,
   "metadata": {
    "ExecuteTime": {
     "end_time": "2018-03-22T10:23:01.206102Z",
     "start_time": "2018-03-22T10:23:01.193505Z"
    }
   },
   "outputs": [],
   "source": [
    "prob_linspace[-5:], estimates[-5:]"
   ]
  },
  {
   "cell_type": "markdown",
   "metadata": {},
   "source": [
    "Quantiles of common lower tail probabilities:"
   ]
  },
  {
   "cell_type": "code",
   "execution_count": null,
   "metadata": {
    "ExecuteTime": {
     "end_time": "2018-03-22T10:23:01.223552Z",
     "start_time": "2018-03-22T10:23:01.207443Z"
    }
   },
   "outputs": [],
   "source": [
    "probs = common_probs\n",
    "for p in probs:\n",
    "     print(\"Quantile corresponding to {p} lower tail probability is {q:.3f} ({p:.1%} of values are lower than or equal to {q:.3f})\".format(\n",
    "         p=p,\n",
    "         q=mydist.ppf(p)))"
   ]
  },
  {
   "cell_type": "code",
   "execution_count": null,
   "metadata": {
    "ExecuteTime": {
     "end_time": "2018-03-22T10:23:01.492069Z",
     "start_time": "2018-03-22T10:23:01.224966Z"
    },
    "scrolled": false
   },
   "outputs": [],
   "source": [
    "# plot\n",
    "fig, ax = plt.subplots(1, 1)\n",
    "\n",
    "# function\n",
    "ax.plot(mydist.ppf(prob_linspace),\n",
    "        prob_linspace,\n",
    "        lw=3,\n",
    "        alpha=0.6,\n",
    "        color='black',\n",
    "        label='{0} ppf'.format(dist_family))\n",
    "\n",
    "# lo_p\n",
    "ax.vlines(x=mydist.ppf(lo_p),\n",
    "          ymin=0,\n",
    "          ymax=lo_p,\n",
    "          colors='C3',\n",
    "          alpha=1,\n",
    "          label='quantile for which {p:.1%} values are likely to be lower than or equal to is {q:.3f}'.format(\n",
    "              p=lo_p,\n",
    "              q=mydist.ppf(lo_p)))\n",
    "\n",
    "\n",
    "\n",
    "\n",
    "ax.fill_between(x=mydist.ppf(prob_linspace[np.where((prob_linspace >= LO_PROB) &\n",
    "                                                    (prob_linspace <= lo_p))]),\n",
    "                y1=mydist.cdf(mydist.ppf(prob_linspace[np.where((prob_linspace >= LO_PROB) &\n",
    "                                                                (prob_linspace <= lo_p))])),\n",
    "                color='C3',\n",
    "                alpha=0.1)\n",
    "\n",
    "# hi_p\n",
    "ax.vlines(x=mydist.ppf(hi_p),\n",
    "          ymin=0,\n",
    "          ymax=hi_p,\n",
    "          color='C0',\n",
    "          alpha=1,\n",
    "          label='quantile for which {p:.1%} values are likely to be lower than or equal to is {q:.3f}'.format(\n",
    "              p=hi_p,\n",
    "              q=mydist.ppf(hi_p)))\n",
    "\n",
    "\n",
    "\n",
    "\n",
    "ax.fill_between(x=mydist.ppf(prob_linspace[np.where((prob_linspace >= LO_PROB) &\n",
    "                                                    (prob_linspace <= hi_p))]),\n",
    "                y1=mydist.cdf(mydist.ppf(prob_linspace[np.where((prob_linspace >= LO_PROB) &\n",
    "                                                                (prob_linspace <= hi_p))])),\n",
    "                color='C0',\n",
    "                alpha=0.1)\n",
    "\n",
    "plt.legend(bbox_to_anchor=(1, 1), loc='upper left')\n",
    "plt.gcf().set_dpi(150)"
   ]
  },
  {
   "cell_type": "markdown",
   "metadata": {},
   "source": [
    "## ISF (Inverse Survival Function)"
   ]
  },
  {
   "cell_type": "markdown",
   "metadata": {},
   "source": [
    "Take an _upper tail_ `probability` as input and returns a `quantile` (inverse of `SF`).\n",
    "\n",
    "It answers questions such as `What is the value above which 97.5% of distribution falls above?`"
   ]
  },
  {
   "cell_type": "code",
   "execution_count": null,
   "metadata": {
    "ExecuteTime": {
     "end_time": "2018-03-22T10:23:01.506940Z",
     "start_time": "2018-03-22T10:23:01.493486Z"
    }
   },
   "outputs": [],
   "source": [
    "probs = [0.025, 0.5, 0.975]\n",
    "for p in probs:\n",
    "     print(\"Quantile corresponding to {p} upper tail probability is {q:.3f} ({p:.1%} of values are greater than {q:.3f})\".format(\n",
    "         p=p,\n",
    "         q=mydist.isf(p)))"
   ]
  },
  {
   "cell_type": "markdown",
   "metadata": {},
   "source": [
    "Calculate quantiles corresponding to list of _upper tail_ probabilities:"
   ]
  },
  {
   "cell_type": "code",
   "execution_count": null,
   "metadata": {
    "ExecuteTime": {
     "end_time": "2018-03-22T10:23:01.522108Z",
     "start_time": "2018-03-22T10:23:01.508322Z"
    }
   },
   "outputs": [],
   "source": [
    "estimates = mydist.isf(prob_linspace)"
   ]
  },
  {
   "cell_type": "code",
   "execution_count": null,
   "metadata": {
    "ExecuteTime": {
     "end_time": "2018-03-22T10:23:01.537681Z",
     "start_time": "2018-03-22T10:23:01.523712Z"
    }
   },
   "outputs": [],
   "source": [
    "prob_linspace[0:5], estimates[0:5]"
   ]
  },
  {
   "cell_type": "code",
   "execution_count": null,
   "metadata": {
    "ExecuteTime": {
     "end_time": "2018-03-22T10:23:01.553496Z",
     "start_time": "2018-03-22T10:23:01.539058Z"
    }
   },
   "outputs": [],
   "source": [
    "prob_linspace[-5:], estimates[-5:]"
   ]
  },
  {
   "cell_type": "markdown",
   "metadata": {},
   "source": [
    "Quantiles of common upper tail probabilities:"
   ]
  },
  {
   "cell_type": "code",
   "execution_count": null,
   "metadata": {
    "ExecuteTime": {
     "end_time": "2018-03-22T10:23:01.571831Z",
     "start_time": "2018-03-22T10:23:01.554879Z"
    }
   },
   "outputs": [],
   "source": [
    "probs = common_probs\n",
    "for p in probs:\n",
    "     print(\"Quantile corresponding to {p} upper tail probability is {q:.3f} ({p:.1%} of values are greater than {q:.3f})\".format(\n",
    "         p=p,\n",
    "         q=mydist.isf(p)))"
   ]
  },
  {
   "cell_type": "code",
   "execution_count": null,
   "metadata": {
    "ExecuteTime": {
     "end_time": "2018-03-22T10:23:01.790378Z",
     "start_time": "2018-03-22T10:23:01.573271Z"
    }
   },
   "outputs": [],
   "source": [
    "# plot\n",
    "fig, ax = plt.subplots(1, 1)\n",
    "\n",
    "# function\n",
    "ax.plot(mydist.isf(prob_linspace),\n",
    "        prob_linspace,\n",
    "        lw=3,\n",
    "        alpha=0.6,\n",
    "        color='black',\n",
    "        label='{0} isf'.format(dist_family))\n",
    "\n",
    "# hi_p\n",
    "ax.vlines(x=mydist.isf(hi_p),\n",
    "          ymin=0,\n",
    "          ymax=hi_p,\n",
    "          color='C3',\n",
    "          alpha=1,\n",
    "          label='quantile for which {p:.1%} values are likely to be greater than is {q:.3f}'.format(\n",
    "              p=hi_p,\n",
    "              q=mydist.isf(hi_p)))\n",
    "\n",
    "\n",
    "ax.fill_between(x=mydist.ppf(prob_linspace[np.where((prob_linspace >= LO_PROB) &\n",
    "                                                    (prob_linspace <= hi_p))]),\n",
    "                y1=mydist.sf(mydist.ppf(prob_linspace[np.where((prob_linspace >= LO_PROB) &\n",
    "                                                               (prob_linspace <= hi_p))])),\n",
    "                color='C3',\n",
    "                alpha=0.1)\n",
    "\n",
    "# lo_p\n",
    "ax.vlines(x=mydist.isf(lo_p),\n",
    "          ymin=0,\n",
    "          ymax=lo_p,\n",
    "          colors='C0',\n",
    "          alpha=1,\n",
    "          label='quantile for which {p:.1%} values are likely to be greater than is {q:.3f}'.format(\n",
    "              p=lo_p,\n",
    "              q=mydist.isf(lo_p)))\n",
    "\n",
    "\n",
    "\n",
    "ax.fill_between(x=mydist.ppf(prob_linspace[np.where((prob_linspace >= LO_PROB) &\n",
    "                                                    (prob_linspace <= lo_p))]),\n",
    "                y1=mydist.sf(mydist.ppf(prob_linspace[np.where((prob_linspace >= LO_PROB) &\n",
    "                                                               (prob_linspace <= lo_p))])),\n",
    "                color='C0',\n",
    "                alpha=0.1)\n",
    "\n",
    "\n",
    "plt.legend(bbox_to_anchor=(1, 1), loc='upper left')\n",
    "plt.gcf().set_dpi(150)"
   ]
  },
  {
   "cell_type": "markdown",
   "metadata": {},
   "source": [
    "## CDF (Cumulative Density Function)"
   ]
  },
  {
   "cell_type": "markdown",
   "metadata": {},
   "source": [
    "Take a `quantile` as input and return a `probability`.\n",
    "\n",
    "CDF returns the `probability` that the random variable is *less than or equal to some value* (a `quantile`)"
   ]
  },
  {
   "cell_type": "code",
   "execution_count": null,
   "metadata": {
    "ExecuteTime": {
     "end_time": "2018-03-22T10:23:01.811065Z",
     "start_time": "2018-03-22T10:23:01.791834Z"
    }
   },
   "outputs": [],
   "source": [
    "probs = common_probs\n",
    "for p in probs:\n",
    "    print(\"Probability that a random variable is *less or equal than* {q:.3f} quantile is {cdf:.3f}.\".format(\n",
    "        q=mydist.ppf(p),\n",
    "        cdf=mydist.cdf(mydist.ppf(p))))\n"
   ]
  },
  {
   "cell_type": "markdown",
   "metadata": {},
   "source": [
    "We evaluate a list of quantiles and return their **cumulative density function** probability. "
   ]
  },
  {
   "cell_type": "code",
   "execution_count": null,
   "metadata": {
    "ExecuteTime": {
     "end_time": "2018-03-22T10:23:01.828914Z",
     "start_time": "2018-03-22T10:23:01.812602Z"
    }
   },
   "outputs": [],
   "source": [
    "estimates = mydist.cdf(mydist.ppf(prob_linspace))"
   ]
  },
  {
   "cell_type": "code",
   "execution_count": null,
   "metadata": {
    "ExecuteTime": {
     "end_time": "2018-03-22T10:23:01.844290Z",
     "start_time": "2018-03-22T10:23:01.831107Z"
    }
   },
   "outputs": [],
   "source": [
    "mydist.ppf(prob_linspace)[0:5], estimates[0:5]"
   ]
  },
  {
   "cell_type": "code",
   "execution_count": null,
   "metadata": {
    "ExecuteTime": {
     "end_time": "2018-03-22T10:23:01.859627Z",
     "start_time": "2018-03-22T10:23:01.845678Z"
    }
   },
   "outputs": [],
   "source": [
    "mydist.ppf(prob_linspace)[-5:], estimates[-5:]"
   ]
  },
  {
   "cell_type": "code",
   "execution_count": null,
   "metadata": {
    "ExecuteTime": {
     "end_time": "2018-03-22T10:23:02.078051Z",
     "start_time": "2018-03-22T10:23:01.861218Z"
    }
   },
   "outputs": [],
   "source": [
    "# plot\n",
    "fig, ax = plt.subplots(1, 1)\n",
    "\n",
    "# function\n",
    "ax.plot(mydist.ppf(prob_linspace),\n",
    "        mydist.cdf(mydist.ppf(prob_linspace)),\n",
    "        lw=3,\n",
    "        alpha=0.6,\n",
    "        color='black',\n",
    "        label='{0} cdf'.format(dist_family))\n",
    "\n",
    "# lo_p\n",
    "\n",
    "ax.vlines(x=mydist.ppf(lo_p),\n",
    "          ymin=0,\n",
    "          ymax=mydist.cdf(mydist.ppf(lo_p)),\n",
    "          colors='C3',\n",
    "          alpha=1,\n",
    "          label='probability that a random variable\\n from this distribution is lower than quantile {q:.3f} is {p:.1%}'.format(\n",
    "              p=mydist.cdf(mydist.ppf(lo_p)),\n",
    "              q=mydist.ppf(lo_p)))\n",
    "\n",
    "\n",
    "\n",
    "ax.fill_between(x=mydist.ppf(prob_linspace[np.where((prob_linspace >= LO_PROB) &\n",
    "                                                    (prob_linspace <= lo_p))]),\n",
    "                y1=mydist.cdf(mydist.ppf(prob_linspace[np.where((prob_linspace >= LO_PROB) &\n",
    "                                                                (prob_linspace <= lo_p))])),\n",
    "                color='C3',\n",
    "                alpha=0.1)\n",
    "\n",
    "# hi_p\n",
    "ax.vlines(x=mydist.ppf(hi_p),\n",
    "          ymin=0,\n",
    "          ymax=mydist.cdf(mydist.ppf(hi_p)),\n",
    "          color='C0',\n",
    "          alpha=1,\n",
    "          label='probability that a random variable\\n from this distribution is lower than quantile {q:.3f} is {p:.1%}'.format(\n",
    "              p=mydist.cdf(mydist.ppf(hi_p)),\n",
    "              q=mydist.ppf(hi_p)))\n",
    "\n",
    "\n",
    "\n",
    "ax.fill_between(x=mydist.ppf(prob_linspace[np.where((prob_linspace >= LO_PROB) &\n",
    "                                                    (prob_linspace <= hi_p))]),\n",
    "                y1=mydist.cdf(mydist.ppf(prob_linspace[np.where((prob_linspace >= LO_PROB) &\n",
    "                                                                (prob_linspace <= hi_p))])),\n",
    "                color='C0',\n",
    "                alpha=0.1)\n",
    "\n",
    "plt.legend(bbox_to_anchor=(1, 1), loc='upper left')\n",
    "plt.gcf().set_dpi(150)"
   ]
  },
  {
   "cell_type": "markdown",
   "metadata": {},
   "source": [
    "## SF (Survival Function)"
   ]
  },
  {
   "cell_type": "markdown",
   "metadata": {},
   "source": [
    "Take a `quantile` as input and return a `probability`.\n",
    "\n",
    "SF returns the `probability` that the random variable is *greater than some value* (a `quantile`)"
   ]
  },
  {
   "cell_type": "code",
   "execution_count": null,
   "metadata": {
    "ExecuteTime": {
     "end_time": "2018-03-22T10:23:02.099416Z",
     "start_time": "2018-03-22T10:23:02.079578Z"
    }
   },
   "outputs": [],
   "source": [
    "probs = common_probs\n",
    "for p in probs:\n",
    "    print(\"Probability that a random variable is *greater than* {q:.3f} quantile is {sf:.3f}.\".format(\n",
    "        q=mydist.ppf(p),\n",
    "        sf=mydist.sf(mydist.ppf(p))))\n"
   ]
  },
  {
   "cell_type": "markdown",
   "metadata": {},
   "source": [
    "We evaluate a list of quantiles and return their **survival function** probability. "
   ]
  },
  {
   "cell_type": "code",
   "execution_count": null,
   "metadata": {
    "ExecuteTime": {
     "end_time": "2018-03-22T10:23:02.114432Z",
     "start_time": "2018-03-22T10:23:02.101054Z"
    },
    "scrolled": false
   },
   "outputs": [],
   "source": [
    "estimates = mydist.sf(mydist.ppf(prob_linspace))"
   ]
  },
  {
   "cell_type": "code",
   "execution_count": null,
   "metadata": {
    "ExecuteTime": {
     "end_time": "2018-03-22T10:23:02.130451Z",
     "start_time": "2018-03-22T10:23:02.116005Z"
    }
   },
   "outputs": [],
   "source": [
    "mydist.ppf(prob_linspace)[0:5], estimates[0:5]"
   ]
  },
  {
   "cell_type": "code",
   "execution_count": null,
   "metadata": {
    "ExecuteTime": {
     "end_time": "2018-03-22T10:23:02.145780Z",
     "start_time": "2018-03-22T10:23:02.131730Z"
    }
   },
   "outputs": [],
   "source": [
    "mydist.ppf(prob_linspace)[-5:], estimates[-5:]"
   ]
  },
  {
   "cell_type": "code",
   "execution_count": null,
   "metadata": {
    "ExecuteTime": {
     "end_time": "2018-03-22T10:23:02.362302Z",
     "start_time": "2018-03-22T10:23:02.147237Z"
    }
   },
   "outputs": [],
   "source": [
    "# plot\n",
    "fig, ax = plt.subplots(1, 1)\n",
    "\n",
    "# function\n",
    "ax.plot(mydist.ppf(prob_linspace),\n",
    "        mydist.sf(mydist.ppf(prob_linspace)),\n",
    "        lw=3,\n",
    "        alpha=0.6,\n",
    "        color='black',\n",
    "        label='{0} sf'.format(dist_family))\n",
    "\n",
    "# lo_p\n",
    "\n",
    "ax.vlines(x=mydist.ppf(lo_p),\n",
    "          ymin=0,\n",
    "          ymax=mydist.sf(mydist.ppf(lo_p)),\n",
    "          colors='C3',\n",
    "          alpha=1,\n",
    "          label='probability that a random variable\\n from this distribution is greater than quantile {q:.3f} is {p:.1%}'.format(\n",
    "              p=mydist.sf(mydist.ppf(lo_p)),\n",
    "              q=mydist.ppf(lo_p)))\n",
    "\n",
    "\n",
    "\n",
    "ax.fill_between(x=mydist.ppf(prob_linspace[np.where((prob_linspace >= lo_p) &\n",
    "                                                    (prob_linspace <= HI_PROB))]),\n",
    "                y1=mydist.sf(mydist.ppf(prob_linspace[np.where((prob_linspace >= lo_p) &\n",
    "                                                               (prob_linspace <= HI_PROB))])),\n",
    "                color='C3',\n",
    "                alpha=0.1)\n",
    "\n",
    "# hi_p\n",
    "ax.vlines(x=mydist.ppf(hi_p),\n",
    "          ymin=0,\n",
    "          ymax=mydist.sf(mydist.ppf(hi_p)),\n",
    "          color='C0',\n",
    "          alpha=1,\n",
    "          label='probability that a random variable\\n from this distribution is greater than quantile {q:.3f} is {p:.1%}'.format(\n",
    "              p=mydist.sf(mydist.ppf(hi_p)),\n",
    "              q=mydist.ppf(hi_p)))\n",
    "\n",
    "\n",
    "\n",
    "ax.fill_between(x=mydist.ppf(prob_linspace[np.where((prob_linspace >= hi_p) &\n",
    "                                                    (prob_linspace <= HI_PROB))]),\n",
    "                y1=mydist.sf(mydist.ppf(prob_linspace[np.where((prob_linspace >= hi_p) &\n",
    "                                                               (prob_linspace <= HI_PROB))])),\n",
    "                color='C0',\n",
    "                alpha=0.1)\n",
    "\n",
    "plt.legend(bbox_to_anchor=(1, 1), loc='upper left')\n",
    "plt.gcf().set_dpi(150)"
   ]
  },
  {
   "cell_type": "markdown",
   "metadata": {},
   "source": [
    "## Variance of sample means"
   ]
  },
  {
   "cell_type": "markdown",
   "metadata": {},
   "source": [
    "We treat the sample mean as a random variable in itself which has its own distribution. Central limit theorem shows that the mean of this distribution converges towards the population mean from which we drew the sample as the sample size increases."
   ]
  },
  {
   "cell_type": "code",
   "execution_count": null,
   "metadata": {
    "ExecuteTime": {
     "end_time": "2018-03-22T10:23:02.379812Z",
     "start_time": "2018-03-22T10:23:02.364486Z"
    }
   },
   "outputs": [],
   "source": [
    "n_samples = 1000\n",
    "sample_size = 16"
   ]
  },
  {
   "cell_type": "markdown",
   "metadata": {},
   "source": [
    "### Sampling distribution of the mean for a _single_ distribution shape"
   ]
  },
  {
   "cell_type": "markdown",
   "metadata": {},
   "source": [
    "Draw `n_samples` random samples of size `sample_size`:"
   ]
  },
  {
   "cell_type": "code",
   "execution_count": null,
   "metadata": {
    "ExecuteTime": {
     "end_time": "2018-03-22T10:23:02.457681Z",
     "start_time": "2018-03-22T10:23:02.381394Z"
    }
   },
   "outputs": [],
   "source": [
    "data = faker.utils.from_function(func=mydist.rvs,\n",
    "                                 func_kws={'size': sample_size},\n",
    "                                 func_seed_arg='random_state',\n",
    "                                 iters=n_samples)\n",
    "\n",
    "print(\"data.shape: \", data.shape)\n",
    "data[0:2]"
   ]
  },
  {
   "cell_type": "markdown",
   "metadata": {},
   "source": [
    "Calculate the mean for each sample drawn:"
   ]
  },
  {
   "cell_type": "code",
   "execution_count": null,
   "metadata": {
    "ExecuteTime": {
     "end_time": "2018-03-22T10:23:02.475410Z",
     "start_time": "2018-03-22T10:23:02.459318Z"
    }
   },
   "outputs": [],
   "source": [
    "sample_means = np.mean(data, axis=1)\n",
    "print(\"sample_means.shape: \", sample_means.shape)\n",
    "sample_means[0:10]"
   ]
  },
  {
   "cell_type": "markdown",
   "metadata": {},
   "source": [
    "Plot the distribution of sample means"
   ]
  },
  {
   "cell_type": "code",
   "execution_count": null,
   "metadata": {
    "ExecuteTime": {
     "end_time": "2018-03-22T10:23:02.683138Z",
     "start_time": "2018-03-22T10:23:02.476907Z"
    }
   },
   "outputs": [],
   "source": [
    "ax = sns.distplot(sample_means)\n",
    "ax.axvline(mydist.ppf(0.5), color='C3', lw=2, label='most likely value in mydist')\n",
    "plt.gcf().set_dpi(150)\n",
    "plt.legend(bbox_to_anchor=(1, 1), borderaxespad=0.0)"
   ]
  },
  {
   "cell_type": "markdown",
   "metadata": {},
   "source": [
    "### Sampling distribution of the mean for multiple distribution shapes"
   ]
  },
  {
   "cell_type": "code",
   "execution_count": null,
   "metadata": {
    "ExecuteTime": {
     "end_time": "2018-03-22T10:23:03.197326Z",
     "start_time": "2018-03-22T10:23:02.684981Z"
    }
   },
   "outputs": [],
   "source": [
    "df = faker.utils.stacked_from_function(\n",
    "    func=getattr(dist_func, 'rvs'),\n",
    "    func_seed_arg='random_state',\n",
    "    apply_func=np.mean,\n",
    "    param_grid=dict(size=[sample_size], **shape_grid),\n",
    "    col_names=['sample_mean'],\n",
    "    iters=n_samples,\n",
    "    seed=12345)\n",
    "df.head()"
   ]
  },
  {
   "cell_type": "code",
   "execution_count": null,
   "metadata": {
    "ExecuteTime": {
     "end_time": "2018-03-22T10:23:04.840996Z",
     "start_time": "2018-03-22T10:23:03.198797Z"
    }
   },
   "outputs": [],
   "source": [
    "grid = snsexts.plots.distplot(a='sample_mean',\n",
    "                       data=df,\n",
    "                       row=row,\n",
    "                       col=col,\n",
    "                       sharex=sharex,\n",
    "                       sharey=sharey,\n",
    "                       distplot_kws={'hist': True, 'kde': kde})\n",
    "\n",
    "retoucher = retouch.grid.FacetGridRetoucher(grid)\n",
    "retoucher.fig.set_dpi(300)\n",
    "retoucher.fig.set_title(title='Sampling distribution of the mean for multiple distribution shapes', y=1.05)"
   ]
  },
  {
   "cell_type": "markdown",
   "metadata": {},
   "source": [
    "### Sampling distribution of the mean for a single distribution shape but different sample sizes"
   ]
  },
  {
   "cell_type": "code",
   "execution_count": null,
   "metadata": {
    "ExecuteTime": {
     "end_time": "2018-03-22T10:23:05.271979Z",
     "start_time": "2018-03-22T10:23:04.842646Z"
    }
   },
   "outputs": [],
   "source": [
    "df = faker.utils.stacked_from_function(\n",
    "    func=getattr(dist_func, 'rvs'),\n",
    "    func_seed_arg='random_state',\n",
    "    apply_func=np.mean,\n",
    "    param_grid=dict(size=[10, 30, 100, 300, 500, 1000],\n",
    "                    **{k: [v] for k, v in default_shape_kws.items()}),\n",
    "    col_names=['sample_mean'],\n",
    "    iters=n_samples,\n",
    "    seed=12345)\n",
    "df.head()"
   ]
  },
  {
   "cell_type": "code",
   "execution_count": null,
   "metadata": {
    "ExecuteTime": {
     "end_time": "2018-03-22T10:23:06.458471Z",
     "start_time": "2018-03-22T10:23:05.273583Z"
    },
    "scrolled": true
   },
   "outputs": [],
   "source": [
    "grid = snsexts.plots.distplot(a='sample_mean',\n",
    "                       data=df,\n",
    "                       col='size',\n",
    "                       col_wrap=3,\n",
    "                       distplot_kws={'hist': True})\n",
    "\n",
    "retoucher = retouch.grid.FacetGridRetoucher(grid)\n",
    "retoucher.fig.set_dpi(300)\n",
    "retoucher.fig.set_title(title='Sampling distribution of the mean for different sample sizes\\nfor {}'.format(default_shape_kws), y=1.05)"
   ]
  }
 ],
 "metadata": {
  "anaconda-cloud": {},
  "hide_input": false,
  "kernelspec": {
   "display_name": "Python [conda env:py36]",
   "language": "python",
   "name": "conda-env-py36-py"
  },
  "language_info": {
   "codemirror_mode": {
    "name": "ipython",
    "version": 3
   },
   "file_extension": ".py",
   "mimetype": "text/x-python",
   "name": "python",
   "nbconvert_exporter": "python",
   "pygments_lexer": "ipython3",
   "version": "3.6.4"
  },
  "toc": {
   "nav_menu": {
    "height": "315px",
    "width": "252px"
   },
   "number_sections": false,
   "sideBar": true,
   "skip_h1_title": false,
   "title_cell": "Table of Contents",
   "title_sidebar": "Contents",
   "toc_cell": false,
   "toc_position": {
    "height": "600px",
    "left": "35px",
    "top": "133.5px",
    "width": "288px"
   },
   "toc_section_display": true,
   "toc_window_display": true
  }
 },
 "nbformat": 4,
 "nbformat_minor": 1
}
