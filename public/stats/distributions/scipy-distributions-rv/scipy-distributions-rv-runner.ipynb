{
 "cells": [
  {
   "cell_type": "code",
   "execution_count": 1,
   "metadata": {
    "ExecuteTime": {
     "end_time": "2018-03-22T14:30:31.374228Z",
     "start_time": "2018-03-22T14:30:31.361248Z"
    }
   },
   "outputs": [],
   "source": [
    "%load_ext autoreload\n",
    "%autoreload 2"
   ]
  },
  {
   "cell_type": "code",
   "execution_count": 2,
   "metadata": {
    "ExecuteTime": {
     "end_time": "2018-03-22T14:30:31.560126Z",
     "start_time": "2018-03-22T14:30:31.376435Z"
    }
   },
   "outputs": [],
   "source": [
    "from dsutils.notebook import notebook_utils"
   ]
  },
  {
   "cell_type": "code",
   "execution_count": 3,
   "metadata": {
    "ExecuteTime": {
     "end_time": "2018-03-22T14:30:31.570539Z",
     "start_time": "2018-03-22T14:30:31.561619Z"
    }
   },
   "outputs": [],
   "source": [
    "nb_name = 'scipy-distributions-rv-template.ipynb'"
   ]
  },
  {
   "cell_type": "markdown",
   "metadata": {},
   "source": [
    "# Develop intuitive understanding of common distributions."
   ]
  },
  {
   "cell_type": "markdown",
   "metadata": {},
   "source": [
    "This notebook parameterises a template Jupyter notebook (see `nb_name` above) and runs it."
   ]
  },
  {
   "cell_type": "code",
   "execution_count": 4,
   "metadata": {
    "ExecuteTime": {
     "end_time": "2018-03-22T14:30:31.580468Z",
     "start_time": "2018-03-22T14:30:31.571938Z"
    }
   },
   "outputs": [],
   "source": [
    "# collect all the notebook parameters to run\n",
    "nb_grid = list()"
   ]
  },
  {
   "cell_type": "markdown",
   "metadata": {},
   "source": [
    "## Continuous distributions"
   ]
  },
  {
   "cell_type": "markdown",
   "metadata": {},
   "source": [
    "### Normal"
   ]
  },
  {
   "cell_type": "code",
   "execution_count": 5,
   "metadata": {
    "ExecuteTime": {
     "end_time": "2018-03-22T14:30:31.594591Z",
     "start_time": "2018-03-22T14:30:31.581856Z"
    }
   },
   "outputs": [],
   "source": [
    "task = dict(dist_family='norm',\n",
    "            kind='continuous',\n",
    "            default_shape_kws={'loc': 0, 'scale': 1},\n",
    "            shape_grid={\n",
    "                'loc': [20, 30, 40],\n",
    "                'scale': [5, 10, 15]\n",
    "            },\n",
    "            row='loc',\n",
    "            col='scale')\n",
    "nb_grid.append(task)"
   ]
  },
  {
   "cell_type": "markdown",
   "metadata": {},
   "source": [
    "### T"
   ]
  },
  {
   "cell_type": "code",
   "execution_count": 6,
   "metadata": {
    "ExecuteTime": {
     "end_time": "2018-03-22T14:30:31.606716Z",
     "start_time": "2018-03-22T14:30:31.596052Z"
    }
   },
   "outputs": [],
   "source": [
    "task = dict(dist_family='t',\n",
    "            kind='continuous',\n",
    "            default_shape_kws={'df': 5},\n",
    "            shape_grid={\n",
    "                'df': [1, 2, 5, 30, 100],\n",
    "            },\n",
    "            row=None,\n",
    "            sharex=False,\n",
    "            col='df')\n",
    "nb_grid.append(task)"
   ]
  },
  {
   "cell_type": "markdown",
   "metadata": {},
   "source": [
    "### Logistic"
   ]
  },
  {
   "cell_type": "code",
   "execution_count": 7,
   "metadata": {
    "ExecuteTime": {
     "end_time": "2018-03-22T14:30:31.619011Z",
     "start_time": "2018-03-22T14:30:31.608052Z"
    }
   },
   "outputs": [],
   "source": [
    "task = dict(dist_family='logistic',\n",
    "            kind='continuous',\n",
    "            default_shape_kws={'loc': 0, 'scale': 1},\n",
    "            shape_grid={\n",
    "                'loc': [20, 30, 40],\n",
    "                'scale': [5, 10, 15]\n",
    "            },\n",
    "            row='loc',\n",
    "            col='scale')\n",
    "nb_grid.append(task)"
   ]
  },
  {
   "cell_type": "markdown",
   "metadata": {},
   "source": [
    "### Uniform"
   ]
  },
  {
   "cell_type": "code",
   "execution_count": 8,
   "metadata": {
    "ExecuteTime": {
     "end_time": "2018-03-22T14:30:31.631355Z",
     "start_time": "2018-03-22T14:30:31.620391Z"
    }
   },
   "outputs": [],
   "source": [
    "task = dict(dist_family='uniform',\n",
    "            kind='continuous',\n",
    "            default_shape_kws={'loc': 0, 'scale': 1},\n",
    "            shape_grid={\n",
    "                'loc': [20, 30, 40],\n",
    "                'scale': [5, 10, 15]\n",
    "            },\n",
    "            row='loc',\n",
    "            col='scale')\n",
    "nb_grid.append(task)"
   ]
  },
  {
   "cell_type": "markdown",
   "metadata": {},
   "source": [
    "### Exponential"
   ]
  },
  {
   "cell_type": "code",
   "execution_count": 9,
   "metadata": {
    "ExecuteTime": {
     "end_time": "2018-03-22T14:30:31.643639Z",
     "start_time": "2018-03-22T14:30:31.632690Z"
    }
   },
   "outputs": [],
   "source": [
    "task = dict(dist_family='expon',\n",
    "            kind='continuous',\n",
    "            default_shape_kws={'loc': 0, 'scale': 1},\n",
    "            shape_grid={\n",
    "                'loc': [20, 30, 40],\n",
    "                'scale': [5, 10, 15]\n",
    "            },\n",
    "            row='loc',\n",
    "            col='scale')\n",
    "nb_grid.append(task)"
   ]
  },
  {
   "cell_type": "markdown",
   "metadata": {},
   "source": [
    "### Beta"
   ]
  },
  {
   "cell_type": "code",
   "execution_count": 10,
   "metadata": {
    "ExecuteTime": {
     "end_time": "2018-03-22T14:30:31.656510Z",
     "start_time": "2018-03-22T14:30:31.644997Z"
    }
   },
   "outputs": [],
   "source": [
    "task = dict(dist_family='beta',\n",
    "            kind='continuous',\n",
    "            default_shape_kws={'a': 0.5, 'b': 0.5, 'loc': 0, 'scale': 1},\n",
    "            shape_grid={\n",
    "                'a': [0.5, 1, 2, 3],\n",
    "                'b': [0.5, 1, 2, 3]\n",
    "            },\n",
    "            row='a',\n",
    "            col='b')\n",
    "nb_grid.append(task)"
   ]
  },
  {
   "cell_type": "markdown",
   "metadata": {},
   "source": [
    "### Gamma"
   ]
  },
  {
   "cell_type": "code",
   "execution_count": 11,
   "metadata": {
    "ExecuteTime": {
     "end_time": "2018-03-22T14:30:31.670472Z",
     "start_time": "2018-03-22T14:30:31.657907Z"
    }
   },
   "outputs": [],
   "source": [
    "task = dict(dist_family='gengamma',\n",
    "            kind='continuous',\n",
    "            default_shape_kws={'a': 1, 'c': 2, 'loc': 0, 'scale': 1},\n",
    "            shape_grid={\n",
    "                'a': [0.5, 1, 2, 3, 5, 9],\n",
    "                'c': [-2, -1, 0.5, 1, 2]\n",
    "            },\n",
    "            row='a',\n",
    "            col='c',\n",
    "            sharex=False,\n",
    "            sharey=False)\n",
    "nb_grid.append(task)"
   ]
  },
  {
   "cell_type": "markdown",
   "metadata": {},
   "source": [
    "## Discrete distributions"
   ]
  },
  {
   "cell_type": "markdown",
   "metadata": {},
   "source": [
    "### Binomial"
   ]
  },
  {
   "cell_type": "code",
   "execution_count": 12,
   "metadata": {
    "ExecuteTime": {
     "end_time": "2018-03-22T14:30:31.687655Z",
     "start_time": "2018-03-22T14:30:31.674662Z"
    }
   },
   "outputs": [],
   "source": [
    "task = dict(dist_family='binom',\n",
    "            kind='discrete',\n",
    "            default_shape_kws={'n': 100, 'p': 0.3},\n",
    "            shape_grid={\n",
    "                'n': [1, 50, 100],\n",
    "                'p': [0.1, 0.5, 0.9]\n",
    "            },\n",
    "            row='n',\n",
    "            col='p',\n",
    "            sharex=False,\n",
    "            sharey=False)\n",
    "nb_grid.append(task)"
   ]
  },
  {
   "cell_type": "markdown",
   "metadata": {},
   "source": [
    "### Bernoulli"
   ]
  },
  {
   "cell_type": "code",
   "execution_count": 13,
   "metadata": {
    "ExecuteTime": {
     "end_time": "2018-03-22T14:30:31.702217Z",
     "start_time": "2018-03-22T14:30:31.691216Z"
    }
   },
   "outputs": [],
   "source": [
    "task = dict(dist_family='bernoulli',\n",
    "            kind='discrete',\n",
    "            default_shape_kws={'p': 0.5},\n",
    "            shape_grid={\n",
    "                'p': [0.1, 0.5, 0.9]\n",
    "            },\n",
    "            row=None,\n",
    "            col='p',\n",
    "            sharex=False,\n",
    "            sharey=False)\n",
    "nb_grid.append(task)"
   ]
  },
  {
   "cell_type": "markdown",
   "metadata": {},
   "source": [
    "### Poisson"
   ]
  },
  {
   "cell_type": "code",
   "execution_count": 14,
   "metadata": {
    "ExecuteTime": {
     "end_time": "2018-03-22T14:30:31.739226Z",
     "start_time": "2018-03-22T14:30:31.726674Z"
    }
   },
   "outputs": [],
   "source": [
    "task = dict(dist_family='poisson',\n",
    "            kind='discrete',\n",
    "            default_shape_kws={'mu': 1},\n",
    "            shape_grid={\n",
    "                'mu': [1, 10, 100]\n",
    "            },\n",
    "            row=None,\n",
    "            col='mu',\n",
    "            sharex=False,\n",
    "            sharey=False)\n",
    "nb_grid.append(task)"
   ]
  },
  {
   "cell_type": "markdown",
   "metadata": {},
   "source": [
    "## Run"
   ]
  },
  {
   "cell_type": "code",
   "execution_count": 15,
   "metadata": {
    "ExecuteTime": {
     "end_time": "2018-03-22T14:33:23.359759Z",
     "start_time": "2018-03-22T14:30:31.740628Z"
    },
    "scrolled": false
   },
   "outputs": [
    {
     "data": {
      "text/html": [
       "<a href='scipy-distributions-rv-template--out--dist=norm--shape=loc.0-scale.1.ipynb' target='_blank'>scipy-distributions-rv-template--out--dist=norm--shape=loc.0-scale.1.ipynb</a><br>"
      ],
      "text/plain": [
       "/home/cmardiros/myrepos/ju_notebooks/public/stats/distributions/scipy-distributions-rv/scipy-distributions-rv-template--out--dist=norm--shape=loc.0-scale.1.ipynb"
      ]
     },
     "metadata": {},
     "output_type": "display_data"
    },
    {
     "data": {
      "text/html": [
       "<a href='scipy-distributions-rv-template--out--dist=t--shape=df.5.ipynb' target='_blank'>scipy-distributions-rv-template--out--dist=t--shape=df.5.ipynb</a><br>"
      ],
      "text/plain": [
       "/home/cmardiros/myrepos/ju_notebooks/public/stats/distributions/scipy-distributions-rv/scipy-distributions-rv-template--out--dist=t--shape=df.5.ipynb"
      ]
     },
     "metadata": {},
     "output_type": "display_data"
    },
    {
     "data": {
      "text/html": [
       "<a href='scipy-distributions-rv-template--out--dist=logistic--shape=loc.0-scale.1.ipynb' target='_blank'>scipy-distributions-rv-template--out--dist=logistic--shape=loc.0-scale.1.ipynb</a><br>"
      ],
      "text/plain": [
       "/home/cmardiros/myrepos/ju_notebooks/public/stats/distributions/scipy-distributions-rv/scipy-distributions-rv-template--out--dist=logistic--shape=loc.0-scale.1.ipynb"
      ]
     },
     "metadata": {},
     "output_type": "display_data"
    },
    {
     "data": {
      "text/html": [
       "<a href='scipy-distributions-rv-template--out--dist=uniform--shape=loc.0-scale.1.ipynb' target='_blank'>scipy-distributions-rv-template--out--dist=uniform--shape=loc.0-scale.1.ipynb</a><br>"
      ],
      "text/plain": [
       "/home/cmardiros/myrepos/ju_notebooks/public/stats/distributions/scipy-distributions-rv/scipy-distributions-rv-template--out--dist=uniform--shape=loc.0-scale.1.ipynb"
      ]
     },
     "metadata": {},
     "output_type": "display_data"
    },
    {
     "data": {
      "text/html": [
       "<a href='scipy-distributions-rv-template--out--dist=expon--shape=loc.0-scale.1.ipynb' target='_blank'>scipy-distributions-rv-template--out--dist=expon--shape=loc.0-scale.1.ipynb</a><br>"
      ],
      "text/plain": [
       "/home/cmardiros/myrepos/ju_notebooks/public/stats/distributions/scipy-distributions-rv/scipy-distributions-rv-template--out--dist=expon--shape=loc.0-scale.1.ipynb"
      ]
     },
     "metadata": {},
     "output_type": "display_data"
    },
    {
     "data": {
      "text/html": [
       "<a href='scipy-distributions-rv-template--out--dist=beta--shape=a.0.5-b.0.5-loc.0-scale.1.ipynb' target='_blank'>scipy-distributions-rv-template--out--dist=beta--shape=a.0.5-b.0.5-loc.0-scale.1.ipynb</a><br>"
      ],
      "text/plain": [
       "/home/cmardiros/myrepos/ju_notebooks/public/stats/distributions/scipy-distributions-rv/scipy-distributions-rv-template--out--dist=beta--shape=a.0.5-b.0.5-loc.0-scale.1.ipynb"
      ]
     },
     "metadata": {},
     "output_type": "display_data"
    },
    {
     "data": {
      "text/html": [
       "<a href='scipy-distributions-rv-template--out--dist=gengamma--shape=a.1-c.2-loc.0-scale.1.ipynb' target='_blank'>scipy-distributions-rv-template--out--dist=gengamma--shape=a.1-c.2-loc.0-scale.1.ipynb</a><br>"
      ],
      "text/plain": [
       "/home/cmardiros/myrepos/ju_notebooks/public/stats/distributions/scipy-distributions-rv/scipy-distributions-rv-template--out--dist=gengamma--shape=a.1-c.2-loc.0-scale.1.ipynb"
      ]
     },
     "metadata": {},
     "output_type": "display_data"
    },
    {
     "data": {
      "text/html": [
       "<a href='scipy-distributions-rv-template--out--dist=binom--shape=n.100-p.0.3.ipynb' target='_blank'>scipy-distributions-rv-template--out--dist=binom--shape=n.100-p.0.3.ipynb</a><br>"
      ],
      "text/plain": [
       "/home/cmardiros/myrepos/ju_notebooks/public/stats/distributions/scipy-distributions-rv/scipy-distributions-rv-template--out--dist=binom--shape=n.100-p.0.3.ipynb"
      ]
     },
     "metadata": {},
     "output_type": "display_data"
    },
    {
     "data": {
      "text/html": [
       "<a href='scipy-distributions-rv-template--out--dist=bernoulli--shape=p.0.5.ipynb' target='_blank'>scipy-distributions-rv-template--out--dist=bernoulli--shape=p.0.5.ipynb</a><br>"
      ],
      "text/plain": [
       "/home/cmardiros/myrepos/ju_notebooks/public/stats/distributions/scipy-distributions-rv/scipy-distributions-rv-template--out--dist=bernoulli--shape=p.0.5.ipynb"
      ]
     },
     "metadata": {},
     "output_type": "display_data"
    },
    {
     "data": {
      "text/html": [
       "<a href='scipy-distributions-rv-template--out--dist=poisson--shape=mu.1.ipynb' target='_blank'>scipy-distributions-rv-template--out--dist=poisson--shape=mu.1.ipynb</a><br>"
      ],
      "text/plain": [
       "/home/cmardiros/myrepos/ju_notebooks/public/stats/distributions/scipy-distributions-rv/scipy-distributions-rv-template--out--dist=poisson--shape=mu.1.ipynb"
      ]
     },
     "metadata": {},
     "output_type": "display_data"
    }
   ],
   "source": [
    "for task in nb_grid:\n",
    "    nb_suffix='-out--dist={0}--shape={1}'.format(task['dist_family'], '-'.join(['{}.{}'.format(k, v) for k, v in task['default_shape_kws'].items()]))\n",
    "    notebook_utils.run_notebook(nb_path=nb_name,\n",
    "                                nb_kwargs=task,\n",
    "                                insert_pos=6, # position of cell in template to insert these params\n",
    "                                nb_suffix=nb_suffix)"
   ]
  }
 ],
 "metadata": {
  "hide_input": false,
  "kernelspec": {
   "display_name": "Python [conda env:py36]",
   "language": "python",
   "name": "conda-env-py36-py"
  },
  "language_info": {
   "codemirror_mode": {
    "name": "ipython",
    "version": 3
   },
   "file_extension": ".py",
   "mimetype": "text/x-python",
   "name": "python",
   "nbconvert_exporter": "python",
   "pygments_lexer": "ipython3",
   "version": "3.6.4"
  },
  "toc": {
   "nav_menu": {},
   "number_sections": false,
   "sideBar": true,
   "skip_h1_title": false,
   "title_cell": "Table of Contents",
   "title_sidebar": "Contents",
   "toc_cell": false,
   "toc_position": {
    "height": "calc(100% - 180px)",
    "left": "10px",
    "top": "150px",
    "width": "194px"
   },
   "toc_section_display": true,
   "toc_window_display": true
  }
 },
 "nbformat": 4,
 "nbformat_minor": 2
}
