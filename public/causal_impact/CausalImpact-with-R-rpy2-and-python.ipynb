{
 "cells": [
  {
   "cell_type": "markdown",
   "metadata": {},
   "source": [
    "# How to use [CausalImpact](https://google.github.io/CausalImpact/CausalImpact.html) with rpy2"
   ]
  },
  {
   "cell_type": "markdown",
   "metadata": {},
   "source": [
    "I'd like to be able to use R packages like CausalImpact without leaving my Python workflow. This notebook shows how to do that. It's also a chance to compare the original CausalImpact package with available python implementations"
   ]
  },
  {
   "cell_type": "markdown",
   "metadata": {},
   "source": [
    "## Imports and magics"
   ]
  },
  {
   "cell_type": "code",
   "execution_count": 30,
   "metadata": {
    "ExecuteTime": {
     "end_time": "2018-03-22T14:23:27.040504Z",
     "start_time": "2018-03-22T14:23:27.021961Z"
    }
   },
   "outputs": [
    {
     "name": "stdout",
     "output_type": "stream",
     "text": [
      "The autoreload extension is already loaded. To reload it, use:\n",
      "  %reload_ext autoreload\n",
      "The rpy2.ipython extension is already loaded. To reload it, use:\n",
      "  %reload_ext rpy2.ipython\n"
     ]
    }
   ],
   "source": [
    "%load_ext autoreload\n",
    "%autoreload 2\n",
    "%matplotlib inline\n",
    "%load_ext rpy2.ipython"
   ]
  },
  {
   "cell_type": "code",
   "execution_count": 31,
   "metadata": {
    "ExecuteTime": {
     "end_time": "2018-03-22T14:23:27.072444Z",
     "start_time": "2018-03-22T14:23:27.041885Z"
    }
   },
   "outputs": [],
   "source": [
    "# avoid collisions with rpy2 import of R's stats package\n",
    "from scipy import stats as scipy_stats\n",
    "import numpy as np\n",
    "import pandas as pd\n",
    "import matplotlib.pyplot as plt\n",
    "import matplotlib as mpl"
   ]
  },
  {
   "cell_type": "code",
   "execution_count": 32,
   "metadata": {
    "ExecuteTime": {
     "end_time": "2018-03-22T14:23:27.091519Z",
     "start_time": "2018-03-22T14:23:27.074877Z"
    }
   },
   "outputs": [],
   "source": [
    "import rpy2\n",
    "import rpy2.robjects as ro\n",
    "from rpy2.robjects.packages import importr\n",
    "from rpy2.robjects.vectors import ListVector\n",
    "\n",
    "import rpy2.robjects.numpy2ri\n",
    "rpy2.robjects.numpy2ri.activate()\n",
    "\n",
    "from rpy2.robjects import pandas2ri\n",
    "pandas2ri.activate()"
   ]
  },
  {
   "cell_type": "markdown",
   "metadata": {
    "ExecuteTime": {
     "end_time": "2018-03-19T17:35:51.238033Z",
     "start_time": "2018-03-19T17:35:51.222740Z"
    }
   },
   "source": [
    "## Install CausalImpact"
   ]
  },
  {
   "cell_type": "markdown",
   "metadata": {
    "ExecuteTime": {
     "end_time": "2018-03-19T17:36:06.968222Z",
     "start_time": "2018-03-19T17:36:06.953389Z"
    }
   },
   "source": [
    "Comment the cell below if already installed"
   ]
  },
  {
   "cell_type": "code",
   "execution_count": 33,
   "metadata": {
    "ExecuteTime": {
     "end_time": "2018-03-22T14:23:27.133917Z",
     "start_time": "2018-03-22T14:23:27.123438Z"
    }
   },
   "outputs": [],
   "source": [
    "# %%R\n",
    "# install.packages(pkgs=\"Boom\", quiet=FALSE, verbose=TRUE)\n",
    "# install.packages(pkgs=\"CausalImpact\", quiet=FALSE, verbose=TRUE)"
   ]
  },
  {
   "cell_type": "markdown",
   "metadata": {
    "ExecuteTime": {
     "end_time": "2018-03-19T17:36:15.417665Z",
     "start_time": "2018-03-19T17:36:15.402923Z"
    }
   },
   "source": [
    "## Load CausalImpact"
   ]
  },
  {
   "cell_type": "code",
   "execution_count": 34,
   "metadata": {
    "ExecuteTime": {
     "end_time": "2018-03-22T14:23:27.361626Z",
     "start_time": "2018-03-22T14:23:27.341590Z"
    }
   },
   "outputs": [
    {
     "data": {
      "text/plain": [
       "rpy2.robjects.packages.Package as a <module 'CausalImpact'>"
      ]
     },
     "execution_count": 34,
     "metadata": {},
     "output_type": "execute_result"
    }
   ],
   "source": [
    "causal = importr('CausalImpact')\n",
    "causal"
   ]
  },
  {
   "cell_type": "markdown",
   "metadata": {},
   "source": [
    "## Dummy dataset parameters"
   ]
  },
  {
   "cell_type": "code",
   "execution_count": 35,
   "metadata": {
    "ExecuteTime": {
     "end_time": "2018-03-22T14:23:27.377525Z",
     "start_time": "2018-03-22T14:23:27.363081Z"
    }
   },
   "outputs": [],
   "source": [
    "n_obs = 100\n",
    "pre_period = {'start': 0, 'end': 69}\n",
    "post_period = {'start': 70,'end':  99}\n",
    "\n",
    "# in R indices start at 1? either way that's whart CausalImpact expects\n",
    "r_pre_period_start = pre_period['start'] + 1\n",
    "r_pre_period_end = pre_period['end'] + 1\n",
    "\n",
    "r_post_period_start = post_period['start'] + 1\n",
    "r_post_period_end = post_period['end'] + 1"
   ]
  },
  {
   "cell_type": "markdown",
   "metadata": {},
   "source": [
    "## CausalImpact R usage (using R magics)"
   ]
  },
  {
   "cell_type": "code",
   "execution_count": 36,
   "metadata": {
    "ExecuteTime": {
     "end_time": "2018-03-22T14:23:27.397234Z",
     "start_time": "2018-03-22T14:23:27.381566Z"
    }
   },
   "outputs": [],
   "source": [
    "# push our dummy data params to R\n",
    "%Rpush n_obs\n",
    "%Rpush r_pre_period_start\n",
    "%Rpush r_pre_period_end\n",
    "%Rpush r_post_period_start\n",
    "%Rpush r_post_period_end"
   ]
  },
  {
   "cell_type": "code",
   "execution_count": 37,
   "metadata": {
    "ExecuteTime": {
     "end_time": "2018-03-22T14:23:28.907096Z",
     "start_time": "2018-03-22T14:23:27.398855Z"
    }
   },
   "outputs": [
    {
     "data": {
      "text/plain": [
       "[1] 100\n",
       "[1] 1\n",
       "[1] 70\n",
       "[1] 71\n",
       "[1] 100\n",
       " [1] 130.6432 129.4597 129.4536 129.9282 132.9129 132.7616 130.1347 133.9869\n",
       " [9] 134.9480 131.3073\n",
       "Posterior inference {CausalImpact}\n",
       "\n",
       "                         Average        Cumulative  \n",
       "Actual                   155            4665        \n",
       "Prediction (s.d.)        146 (0.6)      4370 (18.1) \n",
       "95% CI                   [145, 147]     [4335, 4406]\n",
       "                                                    \n",
       "Absolute effect (s.d.)   9.8 (0.6)      294.6 (18.1)\n",
       "95% CI                   [8.6, 11]      [259.0, 330]\n",
       "                                                    \n",
       "Relative effect (s.d.)   6.7% (0.41%)   6.7% (0.41%)\n",
       "95% CI                   [5.9%, 7.5%]   [5.9%, 7.5%]\n",
       "\n",
       "Posterior tail-area probability p:   0.001\n",
       "Posterior prob. of a causal effect:  99.9%\n",
       "\n",
       "For more details, type: summary(impact, \"report\")\n",
       "\n",
       "              Actual      Pred Pred.lower Pred.upper    Pred.sd  AbsEffect\n",
       "Average     155.4881  145.6681   144.5001   146.8533  0.6022255   9.820053\n",
       "Cumulative 4664.6432 4370.0416  4335.0029  4405.5980 18.0667646 294.601588\n",
       "           AbsEffect.lower AbsEffect.upper AbsEffect.sd  RelEffect\n",
       "Average            8.63484        10.98801    0.6022255 0.06741391\n",
       "Cumulative       259.04521       329.64031   18.0667646 0.06741391\n",
       "           RelEffect.lower RelEffect.upper RelEffect.sd alpha     p\n",
       "Average         0.05927752      0.07543185  0.004134232  0.05 0.001\n",
       "Cumulative      0.05927752      0.07543185  0.004134232  0.05 0.001\n"
      ]
     },
     "metadata": {},
     "output_type": "display_data"
    },
    {
     "data": {
      "image/png": "[encoded data removed]"
     },
     "metadata": {},
     "output_type": "display_data"
    },
    {
     "data": {
      "image/png": "[encoded data removed]"
     },
     "metadata": {},
     "output_type": "display_data"
    }
   ],
   "source": [
    "%%R\n",
    "# generate fake data, run the model and plot results and print summary\n",
    "print(n_obs)\n",
    "print(r_pre_period_start)\n",
    "print(r_pre_period_end)\n",
    "print(r_post_period_start)\n",
    "print(r_post_period_end)\n",
    "\n",
    "# n_obs <- 100\n",
    "# r_pre_period_start <- 1\n",
    "# r_pre_period_end <- 70\n",
    "# r_post_period_start <- 71\n",
    "# r_post_period_end <- 100\n",
    "\n",
    "set.seed(10)\n",
    "x1 <- n_obs + arima.sim(model = list(ar = 0.999), n = n_obs)\n",
    "y <- 1.2 * x1 + rnorm(n_obs)\n",
    "y[r_post_period_start:n_obs] <- y[r_post_period_start:n_obs] + 10\n",
    "data <- cbind(y, x1)\n",
    "print(data[0:10])\n",
    "write.csv(data, file = \"causal_impact_toy_data.csv\")\n",
    "matplot(data, type = \"l\")\n",
    "pre.period <- c(r_pre_period_start, r_pre_period_end)\n",
    "post.period <- c(r_post_period_start, n_obs)\n",
    "impact <- CausalImpact(data, pre.period, post.period)\n",
    "summary(impact)\n",
    "print(impact$summary)\n",
    "plot(impact)\n"
   ]
  },
  {
   "cell_type": "markdown",
   "metadata": {
    "ExecuteTime": {
     "end_time": "2018-03-19T16:31:55.298552Z",
     "start_time": "2018-03-19T16:31:55.282349Z"
    }
   },
   "source": [
    "## CausalImpact using rpy2 with the same dataset generated by R above"
   ]
  },
  {
   "cell_type": "markdown",
   "metadata": {
    "ExecuteTime": {
     "end_time": "2018-03-19T17:37:51.821559Z",
     "start_time": "2018-03-19T17:37:51.803326Z"
    }
   },
   "source": [
    "Use the same file generated above to ensure consistency"
   ]
  },
  {
   "cell_type": "code",
   "execution_count": 38,
   "metadata": {
    "ExecuteTime": {
     "end_time": "2018-03-22T14:23:28.928259Z",
     "start_time": "2018-03-22T14:23:28.908449Z"
    }
   },
   "outputs": [
    {
     "name": "stdout",
     "output_type": "stream",
     "text": [
      "(100, 3)\n"
     ]
    },
    {
     "data": {
      "text/html": [
       "<div>\n",
       "<style scoped>\n",
       "    .dataframe tbody tr th:only-of-type {\n",
       "        vertical-align: middle;\n",
       "    }\n",
       "\n",
       "    .dataframe tbody tr th {\n",
       "        vertical-align: top;\n",
       "    }\n",
       "\n",
       "    .dataframe thead th {\n",
       "        text-align: right;\n",
       "    }\n",
       "</style>\n",
       "<table border=\"1\" class=\"dataframe\">\n",
       "  <thead>\n",
       "    <tr style=\"text-align: right;\">\n",
       "      <th></th>\n",
       "      <th>y</th>\n",
       "      <th>x1</th>\n",
       "    </tr>\n",
       "  </thead>\n",
       "  <tbody>\n",
       "    <tr>\n",
       "      <th>0</th>\n",
       "      <td>130.643162</td>\n",
       "      <td>108.336849</td>\n",
       "    </tr>\n",
       "    <tr>\n",
       "      <th>1</th>\n",
       "      <td>129.459734</td>\n",
       "      <td>108.193738</td>\n",
       "    </tr>\n",
       "    <tr>\n",
       "      <th>2</th>\n",
       "      <td>129.453591</td>\n",
       "      <td>109.276980</td>\n",
       "    </tr>\n",
       "    <tr>\n",
       "      <th>3</th>\n",
       "      <td>129.928183</td>\n",
       "      <td>107.955425</td>\n",
       "    </tr>\n",
       "    <tr>\n",
       "      <th>4</th>\n",
       "      <td>132.912943</td>\n",
       "      <td>109.351117</td>\n",
       "    </tr>\n",
       "  </tbody>\n",
       "</table>\n",
       "</div>"
      ],
      "text/plain": [
       "            y          x1\n",
       "0  130.643162  108.336849\n",
       "1  129.459734  108.193738\n",
       "2  129.453591  109.276980\n",
       "3  129.928183  107.955425\n",
       "4  132.912943  109.351117"
      ]
     },
     "execution_count": 38,
     "metadata": {},
     "output_type": "execute_result"
    }
   ],
   "source": [
    "df = pd.read_csv('causal_impact_toy_data.csv', index_col=False)\n",
    "print(df.shape)\n",
    "del df['Unnamed: 0']\n",
    "df.head()"
   ]
  },
  {
   "cell_type": "code",
   "execution_count": 39,
   "metadata": {
    "ExecuteTime": {
     "end_time": "2018-03-22T14:23:29.049209Z",
     "start_time": "2018-03-22T14:23:28.929726Z"
    }
   },
   "outputs": [
    {
     "data": {
      "text/plain": [
       "<matplotlib.legend.Legend at 0x7f59f779aa20>"
      ]
     },
     "execution_count": 39,
     "metadata": {},
     "output_type": "execute_result"
    },
    {
     "data": {
      "image/png": "[encoded data removed]",
      "text/plain": [
       "<Figure size 432x288 with 1 Axes>"
      ]
     },
     "metadata": {},
     "output_type": "display_data"
    }
   ],
   "source": [
    "fig, ax = plt.subplots(1, 1)\n",
    "ax.axvline(x=post_period['start'], label='change', color='black')\n",
    "ax = plt.plot(df.index, df['y'], color='C3', label='treatment timeline')\n",
    "ax = plt.plot(df.index, df['x1'], color='C0', label='control timeline', ls='dashed')\n",
    "plt.legend(bbox_to_anchor=(1.05, 1), borderaxespad=0.0)"
   ]
  },
  {
   "cell_type": "markdown",
   "metadata": {
    "ExecuteTime": {
     "end_time": "2018-03-19T17:38:15.284059Z",
     "start_time": "2018-03-19T17:38:15.268614Z"
    }
   },
   "source": [
    "### Run model in rpy2"
   ]
  },
  {
   "cell_type": "code",
   "execution_count": 40,
   "metadata": {
    "ExecuteTime": {
     "end_time": "2018-03-22T14:23:29.666790Z",
     "start_time": "2018-03-22T14:23:29.050614Z"
    }
   },
   "outputs": [
    {
     "data": {
      "text/plain": [
       "dict_keys(['series', 'summary', 'report', 'model'])"
      ]
     },
     "execution_count": 40,
     "metadata": {},
     "output_type": "execute_result"
    }
   ],
   "source": [
    "impact = causal.CausalImpact(\n",
    "    data=df.values,\n",
    "    pre_period=np.array([r_pre_period_start, r_pre_period_end]),\n",
    "    post_period=np.array([r_post_period_start, r_post_period_end]),\n",
    "    alpha=0.05)\n",
    "\n",
    "impact = dict(zip(impact.names, list(impact)))\n",
    "impact.keys()"
   ]
  },
  {
   "cell_type": "markdown",
   "metadata": {},
   "source": [
    "### Summary"
   ]
  },
  {
   "cell_type": "code",
   "execution_count": 41,
   "metadata": {
    "ExecuteTime": {
     "end_time": "2018-03-22T14:23:29.691120Z",
     "start_time": "2018-03-22T14:23:29.668220Z"
    }
   },
   "outputs": [
    {
     "name": "stdout",
     "output_type": "stream",
     "text": [
      "(2, 15)\n"
     ]
    },
    {
     "data": {
      "text/html": [
       "<div>\n",
       "<style scoped>\n",
       "    .dataframe tbody tr th:only-of-type {\n",
       "        vertical-align: middle;\n",
       "    }\n",
       "\n",
       "    .dataframe tbody tr th {\n",
       "        vertical-align: top;\n",
       "    }\n",
       "\n",
       "    .dataframe thead th {\n",
       "        text-align: right;\n",
       "    }\n",
       "</style>\n",
       "<table border=\"1\" class=\"dataframe\">\n",
       "  <thead>\n",
       "    <tr style=\"text-align: right;\">\n",
       "      <th></th>\n",
       "      <th>Average</th>\n",
       "      <th>Cumulative</th>\n",
       "    </tr>\n",
       "  </thead>\n",
       "  <tbody>\n",
       "    <tr>\n",
       "      <th>Actual</th>\n",
       "      <td>155.488107</td>\n",
       "      <td>4664.643218</td>\n",
       "    </tr>\n",
       "    <tr>\n",
       "      <th>Pred</th>\n",
       "      <td>145.668054</td>\n",
       "      <td>4370.041630</td>\n",
       "    </tr>\n",
       "    <tr>\n",
       "      <th>Pred.lower</th>\n",
       "      <td>144.499493</td>\n",
       "      <td>4334.984790</td>\n",
       "    </tr>\n",
       "    <tr>\n",
       "      <th>Pred.upper</th>\n",
       "      <td>146.894265</td>\n",
       "      <td>4406.827964</td>\n",
       "    </tr>\n",
       "    <tr>\n",
       "      <th>Pred.sd</th>\n",
       "      <td>0.614348</td>\n",
       "      <td>18.430426</td>\n",
       "    </tr>\n",
       "    <tr>\n",
       "      <th>AbsEffect</th>\n",
       "      <td>9.820053</td>\n",
       "      <td>294.601588</td>\n",
       "    </tr>\n",
       "    <tr>\n",
       "      <th>AbsEffect.lower</th>\n",
       "      <td>8.593842</td>\n",
       "      <td>257.815254</td>\n",
       "    </tr>\n",
       "    <tr>\n",
       "      <th>AbsEffect.upper</th>\n",
       "      <td>10.988614</td>\n",
       "      <td>329.658428</td>\n",
       "    </tr>\n",
       "    <tr>\n",
       "      <th>AbsEffect.sd</th>\n",
       "      <td>0.614348</td>\n",
       "      <td>18.430426</td>\n",
       "    </tr>\n",
       "    <tr>\n",
       "      <th>RelEffect</th>\n",
       "      <td>0.067414</td>\n",
       "      <td>0.067414</td>\n",
       "    </tr>\n",
       "    <tr>\n",
       "      <th>RelEffect.lower</th>\n",
       "      <td>0.058996</td>\n",
       "      <td>0.058996</td>\n",
       "    </tr>\n",
       "    <tr>\n",
       "      <th>RelEffect.upper</th>\n",
       "      <td>0.075436</td>\n",
       "      <td>0.075436</td>\n",
       "    </tr>\n",
       "    <tr>\n",
       "      <th>RelEffect.sd</th>\n",
       "      <td>0.004217</td>\n",
       "      <td>0.004217</td>\n",
       "    </tr>\n",
       "    <tr>\n",
       "      <th>alpha</th>\n",
       "      <td>0.050000</td>\n",
       "      <td>0.050000</td>\n",
       "    </tr>\n",
       "    <tr>\n",
       "      <th>p</th>\n",
       "      <td>0.001000</td>\n",
       "      <td>0.001000</td>\n",
       "    </tr>\n",
       "  </tbody>\n",
       "</table>\n",
       "</div>"
      ],
      "text/plain": [
       "                    Average   Cumulative\n",
       "Actual           155.488107  4664.643218\n",
       "Pred             145.668054  4370.041630\n",
       "Pred.lower       144.499493  4334.984790\n",
       "Pred.upper       146.894265  4406.827964\n",
       "Pred.sd            0.614348    18.430426\n",
       "AbsEffect          9.820053   294.601588\n",
       "AbsEffect.lower    8.593842   257.815254\n",
       "AbsEffect.upper   10.988614   329.658428\n",
       "AbsEffect.sd       0.614348    18.430426\n",
       "RelEffect          0.067414     0.067414\n",
       "RelEffect.lower    0.058996     0.058996\n",
       "RelEffect.upper    0.075436     0.075436\n",
       "RelEffect.sd       0.004217     0.004217\n",
       "alpha              0.050000     0.050000\n",
       "p                  0.001000     0.001000"
      ]
     },
     "execution_count": 41,
     "metadata": {},
     "output_type": "execute_result"
    }
   ],
   "source": [
    "df_summary = pandas2ri.ri2py(impact['summary'])\n",
    "print(df_summary.shape)\n",
    "df_summary.transpose()"
   ]
  },
  {
   "cell_type": "markdown",
   "metadata": {},
   "source": [
    "## Compared with Python tcassou/causal_impact (TODO)"
   ]
  },
  {
   "cell_type": "code",
   "execution_count": 42,
   "metadata": {
    "ExecuteTime": {
     "end_time": "2018-03-22T14:23:29.704662Z",
     "start_time": "2018-03-22T14:23:29.692743Z"
    }
   },
   "outputs": [],
   "source": [
    "# pip install causal-impact\n",
    "# https://github.com/tcassou/causal_impact"
   ]
  },
  {
   "cell_type": "markdown",
   "metadata": {
    "ExecuteTime": {
     "end_time": "2018-03-19T17:28:36.551438Z",
     "start_time": "2018-03-19T17:28:36.535817Z"
    }
   },
   "source": [
    "## Compared to Python jamalsenouci/causalimpact (TODO)"
   ]
  },
  {
   "cell_type": "code",
   "execution_count": 43,
   "metadata": {
    "ExecuteTime": {
     "end_time": "2018-03-22T14:23:29.717875Z",
     "start_time": "2018-03-22T14:23:29.706386Z"
    }
   },
   "outputs": [],
   "source": [
    "# pip install git+ssh://github.com/jamalsenouci/causalimpact.git\n",
    "# https://github.com/jamalsenouci/causalimpact"
   ]
  },
  {
   "cell_type": "markdown",
   "metadata": {},
   "source": [
    "## CausalImpact with rpy2 with fake data simulated using R's `arima.sim` (but no seed)"
   ]
  },
  {
   "cell_type": "markdown",
   "metadata": {},
   "source": [
    "This doesn't produce the same dataset as the first one in this notebook as there doesn't seem to be a way to set the seed in rpy2."
   ]
  },
  {
   "cell_type": "code",
   "execution_count": 44,
   "metadata": {
    "ExecuteTime": {
     "end_time": "2018-03-22T14:23:29.922052Z",
     "start_time": "2018-03-22T14:23:29.719213Z"
    }
   },
   "outputs": [
    {
     "data": {
      "text/plain": [
       "R object with classes: ('function',) mapped to:\n",
       "<DocumentedSTFunction - Python:0x7f59f5eb56c8 / R:0x5631530c9760>"
      ]
     },
     "execution_count": 44,
     "metadata": {},
     "output_type": "execute_result"
    }
   ],
   "source": [
    "arima_sim = importr('stats').arima_sim\n",
    "arima_sim"
   ]
  },
  {
   "cell_type": "markdown",
   "metadata": {},
   "source": [
    "### Generate control timeline"
   ]
  },
  {
   "cell_type": "code",
   "execution_count": 45,
   "metadata": {
    "ExecuteTime": {
     "end_time": "2018-03-22T14:23:29.940790Z",
     "start_time": "2018-03-22T14:23:29.923409Z"
    }
   },
   "outputs": [
    {
     "data": {
      "text/plain": [
       "array([ 90.47820677,  91.03632185,  91.5009729 ,  92.13232791,\n",
       "        92.43318728,  91.26895052,  92.53760666,  93.43321312,\n",
       "        93.07844593,  93.63378799,  95.15631612,  96.41977311,\n",
       "        96.51333924,  96.1872325 ,  96.95773269,  98.71690936,\n",
       "        98.28081367,  98.80106644,  99.20417331,  97.84940735,\n",
       "        97.91933176,  98.15723781, 100.13578608,  99.22729412,\n",
       "        98.83926497,  98.97762599,  99.62346648,  99.63451072,\n",
       "       100.3965656 ,  99.96820081, 100.151967  ,  99.34530944,\n",
       "       101.08021485, 101.18456441, 100.87495262, 101.25699749,\n",
       "       102.31107562, 103.51552097, 102.51420091, 102.97126159,\n",
       "       104.99433971, 103.26228035, 104.07860082, 103.87694967,\n",
       "       103.99592375, 103.04701706, 102.40213668, 101.94434661,\n",
       "       101.62005571, 101.65017375, 102.62597687, 103.56879064,\n",
       "       104.93324063, 104.03874971, 104.20998145, 104.07348083,\n",
       "       103.80993867, 104.1597191 , 105.02589546, 105.5630912 ,\n",
       "       105.24746863, 105.23952385, 106.39770591, 106.13124045,\n",
       "       105.31904639, 103.28199799, 102.040898  , 101.04185085,\n",
       "       101.51070822, 101.96596634, 100.6052604 , 102.56889689,\n",
       "       101.39556979, 100.38766746, 101.58627783, 101.92994543,\n",
       "       101.22199914, 101.39437666, 102.61190204, 103.62881623,\n",
       "       102.68574185, 102.43494864, 103.89055569, 105.17941268,\n",
       "       104.38840039, 107.06882373, 105.79069761, 105.09971538,\n",
       "       105.88471492, 106.01459306, 106.4028973 , 106.55011006,\n",
       "       106.42578272, 106.48767623, 105.98420166, 107.01556866,\n",
       "       107.58995512, 109.3844191 , 108.67094425, 108.5217137 ])"
      ]
     },
     "execution_count": 45,
     "metadata": {},
     "output_type": "execute_result"
    }
   ],
   "source": [
    "_x1 = arima_sim(model=ListVector({'ar': 0.999}),\n",
    "                n=n_obs)\n",
    "x1 = 100 + np.array(_x1)\n",
    "x1"
   ]
  },
  {
   "cell_type": "markdown",
   "metadata": {},
   "source": [
    "### Generate treatment timeline"
   ]
  },
  {
   "cell_type": "code",
   "execution_count": 46,
   "metadata": {
    "ExecuteTime": {
     "end_time": "2018-03-22T14:23:29.963597Z",
     "start_time": "2018-03-22T14:23:29.943111Z"
    }
   },
   "outputs": [
    {
     "data": {
      "text/plain": [
       "array([108.47795883, 109.15776076, 112.09052005, 109.66157633,\n",
       "       110.96280649, 108.44963972, 109.70726189, 113.54271516,\n",
       "       113.24815418, 113.46877595, 113.07396435, 114.40312033,\n",
       "       116.69873433, 115.37022032, 116.96873132, 119.64035716,\n",
       "       117.20491342, 119.32132245, 117.75393563, 117.10178165,\n",
       "       117.75733776, 117.12255923, 120.81156623, 122.01165151,\n",
       "       119.54763508, 118.68057778, 119.1477725 , 119.91340893,\n",
       "       119.86179651, 119.97056611, 120.69824865, 119.28924352,\n",
       "       120.45093502, 119.96833521, 121.70964671, 123.17272399,\n",
       "       123.18293149, 122.95024019, 123.7219566 , 124.06885264,\n",
       "       128.27229185, 123.7985287 , 127.21919261, 124.67971616,\n",
       "       124.30093965, 123.61558113, 124.05125342, 123.82414159,\n",
       "       120.791444  , 121.97441879, 123.10666167, 123.47400406,\n",
       "       125.6469143 , 124.95396515, 125.67482821, 125.91993873,\n",
       "       126.45278531, 124.84290506, 126.73998327, 126.25153227,\n",
       "       124.71127499, 123.89730042, 129.69044987, 127.3925827 ,\n",
       "       126.67200693, 124.09183149, 123.67920906, 120.98295057,\n",
       "       120.63462777, 124.39907622, 130.76617491, 132.62110401,\n",
       "       132.4601888 , 132.69523175, 128.83348111, 133.77739413,\n",
       "       132.67943992, 133.93228888, 132.73641116, 134.58671388,\n",
       "       132.14752928, 129.96960618, 130.28606784, 138.09363246,\n",
       "       135.72897571, 140.38697868, 138.54579616, 137.45699477,\n",
       "       135.34942999, 133.94904781, 137.44287297, 140.01449604,\n",
       "       129.71653792, 140.32465149, 135.90537902, 133.55574713,\n",
       "       136.49705803, 139.07634764, 137.96151595, 130.26977327])"
      ]
     },
     "execution_count": 46,
     "metadata": {},
     "output_type": "execute_result"
    }
   ],
   "source": [
    "# make the treatment timeline follow roughly the x1 timeline\n",
    "y = 1.2 * x1 + scipy_stats.norm.rvs(size=100)\n",
    "\n",
    "# add a random increase in post period normally centered around 10\n",
    "y_post = y[post_period['start']:post_period['end']]\n",
    "y_post += scipy_stats.norm.rvs(loc=10,\n",
    "                               scale=3,\n",
    "                               size=post_period['end'] - post_period['start'])\n",
    "y"
   ]
  },
  {
   "cell_type": "markdown",
   "metadata": {},
   "source": [
    "### Combine the two timelines"
   ]
  },
  {
   "cell_type": "code",
   "execution_count": 47,
   "metadata": {
    "ExecuteTime": {
     "end_time": "2018-03-22T14:23:29.986175Z",
     "start_time": "2018-03-22T14:23:29.965096Z"
    }
   },
   "outputs": [
    {
     "data": {
      "text/html": [
       "<div>\n",
       "<style scoped>\n",
       "    .dataframe tbody tr th:only-of-type {\n",
       "        vertical-align: middle;\n",
       "    }\n",
       "\n",
       "    .dataframe tbody tr th {\n",
       "        vertical-align: top;\n",
       "    }\n",
       "\n",
       "    .dataframe thead th {\n",
       "        text-align: right;\n",
       "    }\n",
       "</style>\n",
       "<table border=\"1\" class=\"dataframe\">\n",
       "  <thead>\n",
       "    <tr style=\"text-align: right;\">\n",
       "      <th></th>\n",
       "      <th>y</th>\n",
       "      <th>x1</th>\n",
       "    </tr>\n",
       "  </thead>\n",
       "  <tbody>\n",
       "    <tr>\n",
       "      <th>0</th>\n",
       "      <td>108.477959</td>\n",
       "      <td>90.478207</td>\n",
       "    </tr>\n",
       "    <tr>\n",
       "      <th>1</th>\n",
       "      <td>109.157761</td>\n",
       "      <td>91.036322</td>\n",
       "    </tr>\n",
       "    <tr>\n",
       "      <th>2</th>\n",
       "      <td>112.090520</td>\n",
       "      <td>91.500973</td>\n",
       "    </tr>\n",
       "    <tr>\n",
       "      <th>3</th>\n",
       "      <td>109.661576</td>\n",
       "      <td>92.132328</td>\n",
       "    </tr>\n",
       "    <tr>\n",
       "      <th>4</th>\n",
       "      <td>110.962806</td>\n",
       "      <td>92.433187</td>\n",
       "    </tr>\n",
       "  </tbody>\n",
       "</table>\n",
       "</div>"
      ],
      "text/plain": [
       "            y         x1\n",
       "0  108.477959  90.478207\n",
       "1  109.157761  91.036322\n",
       "2  112.090520  91.500973\n",
       "3  109.661576  92.132328\n",
       "4  110.962806  92.433187"
      ]
     },
     "execution_count": 47,
     "metadata": {},
     "output_type": "execute_result"
    }
   ],
   "source": [
    "df = pd.DataFrame(data=np.vstack((y, x1)).T, columns=['y', 'x1'])\n",
    "df.head()"
   ]
  },
  {
   "cell_type": "markdown",
   "metadata": {
    "ExecuteTime": {
     "end_time": "2018-03-19T16:54:11.503476Z",
     "start_time": "2018-03-19T16:54:11.490458Z"
    }
   },
   "source": [
    "### Plot the timelines"
   ]
  },
  {
   "cell_type": "code",
   "execution_count": 48,
   "metadata": {
    "ExecuteTime": {
     "end_time": "2018-03-22T14:23:30.186695Z",
     "start_time": "2018-03-22T14:23:29.987519Z"
    },
    "scrolled": true
   },
   "outputs": [
    {
     "data": {
      "image/png": "[encoded data removed]",
      "text/plain": [
       "<Figure size 900x600 with 1 Axes>"
      ]
     },
     "metadata": {},
     "output_type": "display_data"
    }
   ],
   "source": [
    "fig, ax = plt.subplots(1, 1)\n",
    "ax.axvline(x=post_period['start'], label='change', color='black')\n",
    "ax = plt.plot(df.index, df['y'], color='C3', label='treatment timeline')\n",
    "ax = plt.plot(df.index, df['x1'], color='C0', label='control timeline', ls='dashed')\n",
    "plt.legend(bbox_to_anchor=(1.05, 1), borderaxespad=0.0)\n",
    "plt.gcf().set_dpi(150)"
   ]
  },
  {
   "cell_type": "markdown",
   "metadata": {},
   "source": [
    "### Run model"
   ]
  },
  {
   "cell_type": "code",
   "execution_count": 49,
   "metadata": {
    "ExecuteTime": {
     "end_time": "2018-03-22T14:23:30.699754Z",
     "start_time": "2018-03-22T14:23:30.188248Z"
    }
   },
   "outputs": [
    {
     "data": {
      "text/plain": [
       "dict_keys(['series', 'summary', 'report', 'model'])"
      ]
     },
     "execution_count": 49,
     "metadata": {},
     "output_type": "execute_result"
    }
   ],
   "source": [
    "impact = causal.CausalImpact(\n",
    "    data=df.values,\n",
    "    pre_period=np.array([r_pre_period_start, r_pre_period_end]),\n",
    "    post_period=np.array([r_post_period_start, r_post_period_end]),\n",
    "    model_args=ListVector({\n",
    "        'niter': 500,  # MCMC samples\n",
    "        'nseasons': 7   # 7 for daily observations\n",
    "    }),\n",
    "    alpha=0.05)\n",
    "\n",
    "impact = dict(zip(impact.names, list(impact)))\n",
    "impact.keys()"
   ]
  },
  {
   "cell_type": "markdown",
   "metadata": {},
   "source": [
    "### Summary"
   ]
  },
  {
   "cell_type": "code",
   "execution_count": 50,
   "metadata": {
    "ExecuteTime": {
     "end_time": "2018-03-22T14:23:30.732225Z",
     "start_time": "2018-03-22T14:23:30.701750Z"
    }
   },
   "outputs": [
    {
     "data": {
      "text/html": [
       "<div>\n",
       "<style scoped>\n",
       "    .dataframe tbody tr th:only-of-type {\n",
       "        vertical-align: middle;\n",
       "    }\n",
       "\n",
       "    .dataframe tbody tr th {\n",
       "        vertical-align: top;\n",
       "    }\n",
       "\n",
       "    .dataframe thead th {\n",
       "        text-align: right;\n",
       "    }\n",
       "</style>\n",
       "<table border=\"1\" class=\"dataframe\">\n",
       "  <thead>\n",
       "    <tr style=\"text-align: right;\">\n",
       "      <th></th>\n",
       "      <th>Average</th>\n",
       "      <th>Cumulative</th>\n",
       "    </tr>\n",
       "  </thead>\n",
       "  <tbody>\n",
       "    <tr>\n",
       "      <th>Actual</th>\n",
       "      <td>134.592229</td>\n",
       "      <td>4037.766867</td>\n",
       "    </tr>\n",
       "    <tr>\n",
       "      <th>Pred</th>\n",
       "      <td>125.817200</td>\n",
       "      <td>3774.515987</td>\n",
       "    </tr>\n",
       "    <tr>\n",
       "      <th>Pred.lower</th>\n",
       "      <td>124.766873</td>\n",
       "      <td>3743.006202</td>\n",
       "    </tr>\n",
       "    <tr>\n",
       "      <th>Pred.upper</th>\n",
       "      <td>126.846376</td>\n",
       "      <td>3805.391267</td>\n",
       "    </tr>\n",
       "    <tr>\n",
       "      <th>Pred.sd</th>\n",
       "      <td>0.530776</td>\n",
       "      <td>15.923283</td>\n",
       "    </tr>\n",
       "    <tr>\n",
       "      <th>AbsEffect</th>\n",
       "      <td>8.775029</td>\n",
       "      <td>263.250880</td>\n",
       "    </tr>\n",
       "    <tr>\n",
       "      <th>AbsEffect.lower</th>\n",
       "      <td>7.745853</td>\n",
       "      <td>232.375600</td>\n",
       "    </tr>\n",
       "    <tr>\n",
       "      <th>AbsEffect.upper</th>\n",
       "      <td>9.825355</td>\n",
       "      <td>294.760665</td>\n",
       "    </tr>\n",
       "    <tr>\n",
       "      <th>AbsEffect.sd</th>\n",
       "      <td>0.530776</td>\n",
       "      <td>15.923283</td>\n",
       "    </tr>\n",
       "    <tr>\n",
       "      <th>RelEffect</th>\n",
       "      <td>0.069744</td>\n",
       "      <td>0.069744</td>\n",
       "    </tr>\n",
       "    <tr>\n",
       "      <th>RelEffect.lower</th>\n",
       "      <td>0.061564</td>\n",
       "      <td>0.061564</td>\n",
       "    </tr>\n",
       "    <tr>\n",
       "      <th>RelEffect.upper</th>\n",
       "      <td>0.078092</td>\n",
       "      <td>0.078092</td>\n",
       "    </tr>\n",
       "    <tr>\n",
       "      <th>RelEffect.sd</th>\n",
       "      <td>0.004219</td>\n",
       "      <td>0.004219</td>\n",
       "    </tr>\n",
       "    <tr>\n",
       "      <th>alpha</th>\n",
       "      <td>0.050000</td>\n",
       "      <td>0.050000</td>\n",
       "    </tr>\n",
       "    <tr>\n",
       "      <th>p</th>\n",
       "      <td>0.002169</td>\n",
       "      <td>0.002169</td>\n",
       "    </tr>\n",
       "  </tbody>\n",
       "</table>\n",
       "</div>"
      ],
      "text/plain": [
       "                    Average   Cumulative\n",
       "Actual           134.592229  4037.766867\n",
       "Pred             125.817200  3774.515987\n",
       "Pred.lower       124.766873  3743.006202\n",
       "Pred.upper       126.846376  3805.391267\n",
       "Pred.sd            0.530776    15.923283\n",
       "AbsEffect          8.775029   263.250880\n",
       "AbsEffect.lower    7.745853   232.375600\n",
       "AbsEffect.upper    9.825355   294.760665\n",
       "AbsEffect.sd       0.530776    15.923283\n",
       "RelEffect          0.069744     0.069744\n",
       "RelEffect.lower    0.061564     0.061564\n",
       "RelEffect.upper    0.078092     0.078092\n",
       "RelEffect.sd       0.004219     0.004219\n",
       "alpha              0.050000     0.050000\n",
       "p                  0.002169     0.002169"
      ]
     },
     "execution_count": 50,
     "metadata": {},
     "output_type": "execute_result"
    }
   ],
   "source": [
    "df_summary = pandas2ri.ri2py(impact['summary'])\n",
    "df_summary.transpose()"
   ]
  },
  {
   "cell_type": "markdown",
   "metadata": {},
   "source": [
    "### Report"
   ]
  },
  {
   "cell_type": "code",
   "execution_count": 51,
   "metadata": {
    "ExecuteTime": {
     "end_time": "2018-03-22T14:23:30.746798Z",
     "start_time": "2018-03-22T14:23:30.733912Z"
    }
   },
   "outputs": [
    {
     "data": {
      "text/plain": [
       "'\\n\\nDuring the post-intervention period, the response variable had an average value of approx. 134.59. By contrast, in the absence of an intervention, we would have expected an average response of 125.82. The 95% interval of this counterfactual prediction is [124.77, 126.85]. Subtracting this prediction from the observed response yields an estimate of the causal effect the intervention had on the response variable. This effect is 8.78 with a 95% interval of [7.75, 9.83]. For a discussion of the significance of this effect, see below.\\n\\nSumming up the individual data points during the post-intervention period (which can only sometimes be meaningfully interpreted), the response variable had an overall value of 4.04K. By contrast, had the intervention not taken place, we would have expected a sum of 3.77K. The 95% interval of this prediction is [3.74K, 3.81K].\\n\\nThe above results are given in terms of absolute numbers. In relative terms, the response variable showed an increase of +7%. The 95% interval of this percentage is [+6%, +8%].\\n\\nThis means that the positive effect observed during the intervention period is statistically significant and unlikely to be due to random fluctuations. It should be noted, however, that the question of whether this increase also bears substantive significance can only be answered by comparing the absolute effect (8.78) to the original goal of the underlying intervention.\\n\\nThe probability of obtaining this effect by chance is very small (Bayesian one-sided tail-area probability p = 0.002). This means the causal effect can be considered statistically significant.'"
      ]
     },
     "execution_count": 51,
     "metadata": {},
     "output_type": "execute_result"
    }
   ],
   "source": [
    "impact['report'][0]"
   ]
  },
  {
   "cell_type": "markdown",
   "metadata": {},
   "source": [
    "### Model"
   ]
  },
  {
   "cell_type": "code",
   "execution_count": 52,
   "metadata": {
    "ExecuteTime": {
     "end_time": "2018-03-22T14:23:30.760738Z",
     "start_time": "2018-03-22T14:23:30.748193Z"
    }
   },
   "outputs": [
    {
     "data": {
      "text/plain": [
       "dict_keys(['pre.period', 'post.period', 'model.args', 'bsts.model', 'alpha'])"
      ]
     },
     "execution_count": 52,
     "metadata": {},
     "output_type": "execute_result"
    }
   ],
   "source": [
    "model = dict(zip(impact['model'].names, list(impact['model'])))\n",
    "model.keys()"
   ]
  },
  {
   "cell_type": "code",
   "execution_count": 53,
   "metadata": {
    "ExecuteTime": {
     "end_time": "2018-03-22T14:23:30.781045Z",
     "start_time": "2018-03-22T14:23:30.762215Z"
    }
   },
   "outputs": [
    {
     "data": {
      "text/html": [
       "<div>\n",
       "<style scoped>\n",
       "    .dataframe tbody tr th:only-of-type {\n",
       "        vertical-align: middle;\n",
       "    }\n",
       "\n",
       "    .dataframe tbody tr th {\n",
       "        vertical-align: top;\n",
       "    }\n",
       "\n",
       "    .dataframe thead th {\n",
       "        text-align: right;\n",
       "    }\n",
       "</style>\n",
       "<table border=\"1\" class=\"dataframe\">\n",
       "  <thead>\n",
       "    <tr style=\"text-align: right;\">\n",
       "      <th></th>\n",
       "      <th>dynamic.regression</th>\n",
       "      <th>niter</th>\n",
       "      <th>nseasons</th>\n",
       "      <th>prior.level.sd</th>\n",
       "      <th>season.duration</th>\n",
       "      <th>standardize.data</th>\n",
       "    </tr>\n",
       "  </thead>\n",
       "  <tbody>\n",
       "    <tr>\n",
       "      <th>0</th>\n",
       "      <td>False</td>\n",
       "      <td>500</td>\n",
       "      <td>7</td>\n",
       "      <td>0.01</td>\n",
       "      <td>1.0</td>\n",
       "      <td>True</td>\n",
       "    </tr>\n",
       "  </tbody>\n",
       "</table>\n",
       "</div>"
      ],
      "text/plain": [
       "   dynamic.regression  niter  nseasons  prior.level.sd  season.duration  \\\n",
       "0               False    500         7            0.01              1.0   \n",
       "\n",
       "   standardize.data  \n",
       "0              True  "
      ]
     },
     "execution_count": 53,
     "metadata": {},
     "output_type": "execute_result"
    }
   ],
   "source": [
    "model_args = dict(zip(model['model.args'].names, list(model['model.args'])))\n",
    "model_args.keys()\n",
    "model_args = pd.DataFrame({k: [v[0]] for k, v in model_args.items()})\n",
    "model_args"
   ]
  },
  {
   "cell_type": "code",
   "execution_count": 54,
   "metadata": {
    "ExecuteTime": {
     "end_time": "2018-03-22T14:23:30.797103Z",
     "start_time": "2018-03-22T14:23:30.782547Z"
    }
   },
   "outputs": [
    {
     "data": {
      "text/html": [
       "\n",
       "    <span>ListVector with 19 elements.</span>\n",
       "    <table>\n",
       "      <tbody>\n",
       "      \n",
       "      <tr>\n",
       "      <th>\n",
       "        coefficients\n",
       "      </th>\n",
       "      <td>\n",
       "        \n",
       "    <span>Matrix with 1000 elements.</span>\n",
       "    <table>\n",
       "      <tbody>\n",
       "      <tr>\n",
       "      \n",
       "      <td>\n",
       "        0.000000\n",
       "      </td>\n",
       "      \n",
       "      <td>\n",
       "        0.000000\n",
       "      </td>\n",
       "      \n",
       "      <td>\n",
       "        0.000000\n",
       "      </td>\n",
       "      \n",
       "      <td>\n",
       "        0.000000\n",
       "      </td>\n",
       "      \n",
       "      <td>\n",
       "        ...\n",
       "      </td>\n",
       "      \n",
       "      <td>\n",
       "        0.999187\n",
       "      </td>\n",
       "      \n",
       "      <td>\n",
       "        0.987963\n",
       "      </td>\n",
       "      \n",
       "      <td>\n",
       "        0.970318\n",
       "      </td>\n",
       "      \n",
       "      <td>\n",
       "        0.987909\n",
       "      </td>\n",
       "      \n",
       "      </tr>\n",
       "      </tbody>\n",
       "    </table>\n",
       "    \n",
       "      </td>\n",
       "      </tr>\n",
       "      \n",
       "      <tr>\n",
       "      <th>\n",
       "        sigma.obs\n",
       "      </th>\n",
       "      <td>\n",
       "        \n",
       "    <span>FloatVector with 500 elements.</span>\n",
       "    <table>\n",
       "      <tbody>\n",
       "      <tr>\n",
       "      \n",
       "      <td>\n",
       "        0.318517\n",
       "      </td>\n",
       "      \n",
       "      <td>\n",
       "        0.319752\n",
       "      </td>\n",
       "      \n",
       "      <td>\n",
       "        0.347097\n",
       "      </td>\n",
       "      \n",
       "      <td>\n",
       "        0.329105\n",
       "      </td>\n",
       "      \n",
       "      <td>\n",
       "        ...\n",
       "      </td>\n",
       "      \n",
       "      <td>\n",
       "        0.334293\n",
       "      </td>\n",
       "      \n",
       "      <td>\n",
       "        0.291364\n",
       "      </td>\n",
       "      \n",
       "      <td>\n",
       "        0.337151\n",
       "      </td>\n",
       "      \n",
       "      <td>\n",
       "        0.313413\n",
       "      </td>\n",
       "      \n",
       "      </tr>\n",
       "      </tbody>\n",
       "    </table>\n",
       "    \n",
       "      </td>\n",
       "      </tr>\n",
       "      \n",
       "      <tr>\n",
       "      <th>\n",
       "        sigma.level\n",
       "      </th>\n",
       "      <td>\n",
       "        \n",
       "    <span>FloatVector with 500 elements.</span>\n",
       "    <table>\n",
       "      <tbody>\n",
       "      <tr>\n",
       "      \n",
       "      <td>\n",
       "        0.010591\n",
       "      </td>\n",
       "      \n",
       "      <td>\n",
       "        0.010239\n",
       "      </td>\n",
       "      \n",
       "      <td>\n",
       "        0.010286\n",
       "      </td>\n",
       "      \n",
       "      <td>\n",
       "        0.010267\n",
       "      </td>\n",
       "      \n",
       "      <td>\n",
       "        ...\n",
       "      </td>\n",
       "      \n",
       "      <td>\n",
       "        0.009238\n",
       "      </td>\n",
       "      \n",
       "      <td>\n",
       "        0.008045\n",
       "      </td>\n",
       "      \n",
       "      <td>\n",
       "        0.007900\n",
       "      </td>\n",
       "      \n",
       "      <td>\n",
       "        0.007388\n",
       "      </td>\n",
       "      \n",
       "      </tr>\n",
       "      </tbody>\n",
       "    </table>\n",
       "    \n",
       "      </td>\n",
       "      </tr>\n",
       "      \n",
       "      <tr>\n",
       "      <th>\n",
       "        ...\n",
       "      </th>\n",
       "      <td>\n",
       "        ...\n",
       "      </td>\n",
       "      </tr>\n",
       "      \n",
       "      <tr>\n",
       "      <th>\n",
       "        xlevels\n",
       "      </th>\n",
       "      <td>\n",
       "        \n",
       "    <span>ListVector with 0 elements.</span>\n",
       "    <table>\n",
       "      <tbody>\n",
       "      \n",
       "      </tbody>\n",
       "    </table>\n",
       "    \n",
       "      </td>\n",
       "      </tr>\n",
       "      \n",
       "      <tr>\n",
       "      <th>\n",
       "        terms\n",
       "      </th>\n",
       "      <td>\n",
       "        y ~ x1\n",
       "attr(,\"variables\")\n",
       "list(y, x1)\n",
       "attr(,\"factors\")\n",
       "   x1\n",
       "y   0\n",
       "x1  1\n",
       "attr(,\"term.labels\")\n",
       "[1] \"x1\"\n",
       "attr(,\"order\")\n",
       "[1] 1\n",
       "attr(,\"intercept\")\n",
       "[1] 1\n",
       "attr(,\"response\")\n",
       "[1] 1\n",
       "attr(,\".Environment\")\n",
       "<environment: 0x563158c1adf8>\n",
       "attr(,\"predvars\")\n",
       "list(y, x1)\n",
       "attr(,\"dataClasses\")\n",
       "        y        x1 \n",
       "\"numeric\" \"numeric\" \n",
       "\n",
       "      </td>\n",
       "      </tr>\n",
       "      \n",
       "      <tr>\n",
       "      <th>\n",
       "        predictors\n",
       "      </th>\n",
       "      <td>\n",
       "        \n",
       "    <span>Matrix with 200 elements.</span>\n",
       "    <table>\n",
       "      <tbody>\n",
       "      <tr>\n",
       "      \n",
       "      <td>\n",
       "        1.000000\n",
       "      </td>\n",
       "      \n",
       "      <td>\n",
       "        1.000000\n",
       "      </td>\n",
       "      \n",
       "      <td>\n",
       "        1.000000\n",
       "      </td>\n",
       "      \n",
       "      <td>\n",
       "        1.000000\n",
       "      </td>\n",
       "      \n",
       "      <td>\n",
       "        ...\n",
       "      </td>\n",
       "      \n",
       "      <td>\n",
       "        1.747956\n",
       "      </td>\n",
       "      \n",
       "      <td>\n",
       "        2.173030\n",
       "      </td>\n",
       "      \n",
       "      <td>\n",
       "        2.004022\n",
       "      </td>\n",
       "      \n",
       "      <td>\n",
       "        1.968672\n",
       "      </td>\n",
       "      \n",
       "      </tr>\n",
       "      </tbody>\n",
       "    </table>\n",
       "    \n",
       "      </td>\n",
       "      </tr>\n",
       "      \n",
       "      </tbody>\n",
       "    </table>\n",
       "    "
      ],
      "text/plain": [
       "R object with classes: ('bsts',) mapped to:\n",
       "<ListVector - Python:0x7f59f77e6a08 / R:0x56315768e010>\n",
       "[Matrix, FloatVector, FloatVector, FloatVector, ..., FloatVector, ListVector, Formula, Matrix]\n",
       "  coefficients: <class 'rpy2.robjects.vectors.Matrix'>\n",
       "  R object with classes: ('matrix',) mapped to:\n",
       "<Matrix - Python:0x7f59f783b2c8 / R:0x5631592c5aa0>\n",
       "[0.000000, 0.000000, 0.000000, 0.000000, ..., 0.999187, 0.987963, 0.970318, 0.987909]\n",
       "  sigma.obs: <class 'rpy2.robjects.vectors.FloatVector'>\n",
       "  R object with classes: ('numeric',) mapped to:\n",
       "<FloatVector - Python:0x7f59f77e6ac8 / R:0x563158909e10>\n",
       "[0.318517, 0.319752, 0.347097, 0.329105, ..., 0.334293, 0.291364, 0.337151, 0.313413]\n",
       "  sigma.level: <class 'rpy2.robjects.vectors.FloatVector'>\n",
       "  R object with classes: ('numeric',) mapped to:\n",
       "<FloatVector - Python:0x7f59f77e6748 / R:0x56315890ade0>\n",
       "[0.010591, 0.010239, 0.010286, 0.010267, ..., 0.009238, 0.008045, 0.007900, 0.007388]\n",
       "  sigma.seasonal.7: <class 'rpy2.robjects.vectors.FloatVector'>\n",
       "  R object with classes: ('numeric',) mapped to:\n",
       "<FloatVector - Python:0x7f59f5f50788 / R:0x563157e19b50>\n",
       "[0.009682, 0.008186, 0.008445, 0.007872, ..., 0.020121, 0.022323, 0.023055, 0.026453]\n",
       "...\n",
       "  state.contributions: <class 'rpy2.robjects.vectors.FloatVector'>\n",
       "  R object with classes: ('zoo',) mapped to:\n",
       "<FloatVector - Python:0x7f59f5e03848 / R:0x5631592c94e0>\n",
       "[-2.293178, -2.163057, -1.601694, -2.066621, ..., NA_real_, NA_real_, NA_real_, NA_real_]\n",
       "R object with classes: ('bsts',) mapped to:\n",
       "<ListVector - Python:0x7f59f77e6a08 / R:0x56315768e010>\n",
       "[Matrix, FloatVector, FloatVector, FloatVector, ..., FloatVector, ListVector, Formula, Matrix]\n",
       "  log.likelihood: <class 'rpy2.robjects.Formula'>\n",
       "  R object with classes: ('terms', 'formula') mapped to:\n",
       "<Formula - Python:0x7f59f783b2c8 / R:0x5631595aa020>\n",
       "  has.regression: <class 'rpy2.robjects.vectors.Matrix'>\n",
       "  R object with classes: ('matrix',) mapped to:\n",
       "<Matrix - Python:0x7f59f7827b88 / R:0x563158b0f9c0>\n",
       "[1.000000, 1.000000, 1.000000, 1.000000, ..., 1.747956, 2.173030, 2.004022, 1.968672]"
      ]
     },
     "execution_count": 54,
     "metadata": {},
     "output_type": "execute_result"
    }
   ],
   "source": [
    "model['bsts.model']"
   ]
  },
  {
   "cell_type": "code",
   "execution_count": 55,
   "metadata": {
    "ExecuteTime": {
     "end_time": "2018-03-22T14:23:30.811569Z",
     "start_time": "2018-03-22T14:23:30.798537Z"
    }
   },
   "outputs": [
    {
     "name": "stdout",
     "output_type": "stream",
     "text": [
      "coefficients\n",
      "family\n",
      "final.state\n",
      "has.regression\n",
      "log.likelihood\n",
      "model.options\n",
      "niter\n",
      "one.step.prediction.errors\n",
      "original.series\n",
      "predictors\n",
      "prior\n",
      "sigma.level\n",
      "sigma.obs\n",
      "sigma.seasonal.7\n",
      "state.contributions\n",
      "state.specification\n",
      "terms\n",
      "timestamp.info\n",
      "xlevels\n"
     ]
    }
   ],
   "source": [
    "bsts_model = dict(zip(model['bsts.model'].names, list(model['bsts.model'])))\n",
    "for k in sorted(list(bsts_model.keys())):\n",
    "    print(k)"
   ]
  },
  {
   "cell_type": "markdown",
   "metadata": {},
   "source": [
    "### Breakdown"
   ]
  },
  {
   "cell_type": "code",
   "execution_count": 56,
   "metadata": {
    "ExecuteTime": {
     "end_time": "2018-03-22T14:23:30.829398Z",
     "start_time": "2018-03-22T14:23:30.813101Z"
    }
   },
   "outputs": [
    {
     "data": {
      "text/plain": [
       "(100, 14)"
      ]
     },
     "execution_count": 56,
     "metadata": {},
     "output_type": "execute_result"
    }
   ],
   "source": [
    "data = np.array(impact['series'])\n",
    "data.shape"
   ]
  },
  {
   "cell_type": "code",
   "execution_count": 57,
   "metadata": {
    "ExecuteTime": {
     "end_time": "2018-03-22T14:23:30.844396Z",
     "start_time": "2018-03-22T14:23:30.831009Z"
    }
   },
   "outputs": [
    {
     "data": {
      "text/plain": [
       "array(['response', 'cum.response', 'point.pred', 'point.pred.lower',\n",
       "       'point.pred.upper', 'cum.pred', 'cum.pred.lower', 'cum.pred.upper',\n",
       "       'point.effect', 'point.effect.lower', 'point.effect.upper',\n",
       "       'cum.effect', 'cum.effect.lower', 'cum.effect.upper'], dtype='<U18')"
      ]
     },
     "execution_count": 57,
     "metadata": {},
     "output_type": "execute_result"
    }
   ],
   "source": [
    "columns = np.array(list(impact['series'].names)[1])\n",
    "columns"
   ]
  },
  {
   "cell_type": "code",
   "execution_count": 58,
   "metadata": {
    "ExecuteTime": {
     "end_time": "2018-03-22T14:23:30.874289Z",
     "start_time": "2018-03-22T14:23:30.846033Z"
    }
   },
   "outputs": [
    {
     "name": "stdout",
     "output_type": "stream",
     "text": [
      "(100, 14)\n"
     ]
    },
    {
     "data": {
      "text/html": [
       "<div>\n",
       "<style scoped>\n",
       "    .dataframe tbody tr th:only-of-type {\n",
       "        vertical-align: middle;\n",
       "    }\n",
       "\n",
       "    .dataframe tbody tr th {\n",
       "        vertical-align: top;\n",
       "    }\n",
       "\n",
       "    .dataframe thead th {\n",
       "        text-align: right;\n",
       "    }\n",
       "</style>\n",
       "<table border=\"1\" class=\"dataframe\">\n",
       "  <thead>\n",
       "    <tr style=\"text-align: right;\">\n",
       "      <th></th>\n",
       "      <th>response</th>\n",
       "      <th>cum.response</th>\n",
       "      <th>point.pred</th>\n",
       "      <th>point.pred.lower</th>\n",
       "      <th>point.pred.upper</th>\n",
       "      <th>cum.pred</th>\n",
       "      <th>cum.pred.lower</th>\n",
       "      <th>cum.pred.upper</th>\n",
       "      <th>point.effect</th>\n",
       "      <th>point.effect.lower</th>\n",
       "      <th>point.effect.upper</th>\n",
       "      <th>cum.effect</th>\n",
       "      <th>cum.effect.lower</th>\n",
       "      <th>cum.effect.upper</th>\n",
       "    </tr>\n",
       "  </thead>\n",
       "  <tbody>\n",
       "    <tr>\n",
       "      <th>0</th>\n",
       "      <td>108.477959</td>\n",
       "      <td>108.477959</td>\n",
       "      <td>109.104877</td>\n",
       "      <td>105.307426</td>\n",
       "      <td>113.028440</td>\n",
       "      <td>108.477959</td>\n",
       "      <td>108.477959</td>\n",
       "      <td>108.477959</td>\n",
       "      <td>-0.626918</td>\n",
       "      <td>-4.550481</td>\n",
       "      <td>3.170533</td>\n",
       "      <td>0.0</td>\n",
       "      <td>0.0</td>\n",
       "      <td>0.0</td>\n",
       "    </tr>\n",
       "    <tr>\n",
       "      <th>1</th>\n",
       "      <td>109.157761</td>\n",
       "      <td>217.635720</td>\n",
       "      <td>109.491195</td>\n",
       "      <td>105.733137</td>\n",
       "      <td>113.240227</td>\n",
       "      <td>217.635720</td>\n",
       "      <td>217.635720</td>\n",
       "      <td>217.635720</td>\n",
       "      <td>-0.333435</td>\n",
       "      <td>-4.082466</td>\n",
       "      <td>3.424624</td>\n",
       "      <td>0.0</td>\n",
       "      <td>0.0</td>\n",
       "      <td>0.0</td>\n",
       "    </tr>\n",
       "    <tr>\n",
       "      <th>2</th>\n",
       "      <td>112.090520</td>\n",
       "      <td>329.726240</td>\n",
       "      <td>110.152646</td>\n",
       "      <td>106.055418</td>\n",
       "      <td>113.812138</td>\n",
       "      <td>329.726240</td>\n",
       "      <td>329.726240</td>\n",
       "      <td>329.726240</td>\n",
       "      <td>1.937874</td>\n",
       "      <td>-1.721618</td>\n",
       "      <td>6.035102</td>\n",
       "      <td>0.0</td>\n",
       "      <td>0.0</td>\n",
       "      <td>0.0</td>\n",
       "    </tr>\n",
       "  </tbody>\n",
       "</table>\n",
       "</div>"
      ],
      "text/plain": [
       "     response  cum.response  point.pred  point.pred.lower  point.pred.upper  \\\n",
       "0  108.477959    108.477959  109.104877        105.307426        113.028440   \n",
       "1  109.157761    217.635720  109.491195        105.733137        113.240227   \n",
       "2  112.090520    329.726240  110.152646        106.055418        113.812138   \n",
       "\n",
       "     cum.pred  cum.pred.lower  cum.pred.upper  point.effect  \\\n",
       "0  108.477959      108.477959      108.477959     -0.626918   \n",
       "1  217.635720      217.635720      217.635720     -0.333435   \n",
       "2  329.726240      329.726240      329.726240      1.937874   \n",
       "\n",
       "   point.effect.lower  point.effect.upper  cum.effect  cum.effect.lower  \\\n",
       "0           -4.550481            3.170533         0.0               0.0   \n",
       "1           -4.082466            3.424624         0.0               0.0   \n",
       "2           -1.721618            6.035102         0.0               0.0   \n",
       "\n",
       "   cum.effect.upper  \n",
       "0               0.0  \n",
       "1               0.0  \n",
       "2               0.0  "
      ]
     },
     "execution_count": 58,
     "metadata": {},
     "output_type": "execute_result"
    }
   ],
   "source": [
    "# one row per observation\n",
    "df_series = pd.DataFrame(data, columns=columns)\n",
    "cols = df_series.columns\n",
    "print(df_series.shape)\n",
    "df_series.head(3)"
   ]
  },
  {
   "cell_type": "markdown",
   "metadata": {},
   "source": [
    "### Matplotlib plot TODO"
   ]
  },
  {
   "cell_type": "markdown",
   "metadata": {},
   "source": [
    "Use df_series to plot response and CI bands"
   ]
  }
 ],
 "metadata": {
  "hide_input": false,
  "kernelspec": {
   "display_name": "Python [conda env:py36]",
   "language": "python",
   "name": "conda-env-py36-py"
  },
  "language_info": {
   "codemirror_mode": {
    "name": "ipython",
    "version": 3
   },
   "file_extension": ".py",
   "mimetype": "text/x-python",
   "name": "python",
   "nbconvert_exporter": "python",
   "pygments_lexer": "ipython3",
   "version": "3.6.4"
  },
  "toc": {
   "nav_menu": {},
   "number_sections": false,
   "sideBar": true,
   "skip_h1_title": false,
   "title_cell": "Table of Contents",
   "title_sidebar": "Contents",
   "toc_cell": false,
   "toc_position": {
    "height": "calc(100% - 180px)",
    "left": "10px",
    "top": "150px",
    "width": "288px"
   },
   "toc_section_display": true,
   "toc_window_display": true
  }
 },
 "nbformat": 4,
 "nbformat_minor": 2
}
