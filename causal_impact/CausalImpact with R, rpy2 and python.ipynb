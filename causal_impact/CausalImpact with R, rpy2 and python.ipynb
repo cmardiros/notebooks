{
 "cells": [
  {
   "cell_type": "markdown",
   "metadata": {},
   "source": [
    "# How to use [CausalImpact](https://google.github.io/CausalImpact/CausalImpact.html) with rpy2"
   ]
  },
  {
   "cell_type": "markdown",
   "metadata": {},
   "source": [
    "## Imports and magics"
   ]
  },
  {
   "cell_type": "code",
   "execution_count": 1,
   "metadata": {
    "ExecuteTime": {
     "end_time": "2018-03-19T17:53:27.316430Z",
     "start_time": "2018-03-19T17:53:26.693087Z"
    }
   },
   "outputs": [],
   "source": [
    "%load_ext autoreload\n",
    "%autoreload 2\n",
    "%matplotlib inline\n",
    "%load_ext rpy2.ipython"
   ]
  },
  {
   "cell_type": "code",
   "execution_count": 2,
   "metadata": {
    "ExecuteTime": {
     "end_time": "2018-03-19T17:53:27.462852Z",
     "start_time": "2018-03-19T17:53:27.317930Z"
    }
   },
   "outputs": [],
   "source": [
    "# avoid collisions with rpy2 import of R's stats package\n",
    "from scipy import stats as scipy_stats\n",
    "import numpy as np\n",
    "import pandas as pd\n",
    "import matplotlib.pyplot as plt\n",
    "import matplotlib as mpl"
   ]
  },
  {
   "cell_type": "code",
   "execution_count": 3,
   "metadata": {
    "ExecuteTime": {
     "end_time": "2018-03-19T17:53:27.484423Z",
     "start_time": "2018-03-19T17:53:27.464397Z"
    }
   },
   "outputs": [],
   "source": [
    "import rpy2\n",
    "import rpy2.robjects as ro\n",
    "from rpy2.robjects.packages import importr\n",
    "from rpy2.robjects.vectors import ListVector\n",
    "\n",
    "import rpy2.robjects.numpy2ri\n",
    "rpy2.robjects.numpy2ri.activate()\n",
    "\n",
    "from rpy2.robjects import pandas2ri\n",
    "pandas2ri.activate()"
   ]
  },
  {
   "cell_type": "markdown",
   "metadata": {
    "ExecuteTime": {
     "end_time": "2018-03-19T17:35:51.238033Z",
     "start_time": "2018-03-19T17:35:51.222740Z"
    }
   },
   "source": [
    "## Install CausalImpact"
   ]
  },
  {
   "cell_type": "markdown",
   "metadata": {
    "ExecuteTime": {
     "end_time": "2018-03-19T17:36:06.968222Z",
     "start_time": "2018-03-19T17:36:06.953389Z"
    }
   },
   "source": [
    "Comment the cell below if already installed"
   ]
  },
  {
   "cell_type": "code",
   "execution_count": 4,
   "metadata": {
    "ExecuteTime": {
     "end_time": "2018-03-19T17:53:34.602199Z",
     "start_time": "2018-03-19T17:53:34.585756Z"
    }
   },
   "outputs": [],
   "source": [
    "# %%R\n",
    "# install.packages(pkgs=\"Boom\", quiet=FALSE, verbose=TRUE)\n",
    "# install.packages(pkgs=\"CausalImpact\", quiet=FALSE, verbose=TRUE)"
   ]
  },
  {
   "cell_type": "markdown",
   "metadata": {
    "ExecuteTime": {
     "end_time": "2018-03-19T17:36:15.417665Z",
     "start_time": "2018-03-19T17:36:15.402923Z"
    }
   },
   "source": [
    "## Load CausalImpact"
   ]
  },
  {
   "cell_type": "code",
   "execution_count": 5,
   "metadata": {
    "ExecuteTime": {
     "end_time": "2018-03-19T17:53:36.228206Z",
     "start_time": "2018-03-19T17:53:35.820528Z"
    }
   },
   "outputs": [
    {
     "data": {
      "text/plain": [
       "rpy2.robjects.packages.Package as a <module 'CausalImpact'>"
      ]
     },
     "execution_count": 5,
     "metadata": {},
     "output_type": "execute_result"
    }
   ],
   "source": [
    "causal = importr('CausalImpact')\n",
    "causal"
   ]
  },
  {
   "cell_type": "markdown",
   "metadata": {},
   "source": [
    "## Dummy dataset parameters"
   ]
  },
  {
   "cell_type": "code",
   "execution_count": 6,
   "metadata": {
    "ExecuteTime": {
     "end_time": "2018-03-19T17:53:36.742341Z",
     "start_time": "2018-03-19T17:53:36.723151Z"
    }
   },
   "outputs": [],
   "source": [
    "n_obs = 100\n",
    "pre_period = {'start': 0, 'end': 69}\n",
    "post_period = {'start': 70,'end':  99}\n",
    "\n",
    "# in R indices start at 1? either way that's whart CausalImpact expects\n",
    "r_pre_period_start = pre_period['start'] + 1\n",
    "r_pre_period_end = pre_period['end'] + 1\n",
    "\n",
    "r_post_period_start = post_period['start'] + 1\n",
    "r_post_period_end = post_period['end'] + 1"
   ]
  },
  {
   "cell_type": "markdown",
   "metadata": {},
   "source": [
    "## CausalImpact R usage (using R magics)"
   ]
  },
  {
   "cell_type": "code",
   "execution_count": 7,
   "metadata": {
    "ExecuteTime": {
     "end_time": "2018-03-19T17:53:37.088184Z",
     "start_time": "2018-03-19T17:53:37.068631Z"
    }
   },
   "outputs": [],
   "source": [
    "# push our dummy data params to R\n",
    "%Rpush n_obs\n",
    "%Rpush r_pre_period_start\n",
    "%Rpush r_pre_period_end\n",
    "%Rpush r_post_period_start\n",
    "%Rpush r_post_period_end"
   ]
  },
  {
   "cell_type": "code",
   "execution_count": 8,
   "metadata": {
    "ExecuteTime": {
     "end_time": "2018-03-19T17:53:39.916437Z",
     "start_time": "2018-03-19T17:53:37.258127Z"
    }
   },
   "outputs": [
    {
     "data": {
      "text/plain": [
       "[1] 100\n",
       "[1] 1\n",
       "[1] 70\n",
       "[1] 71\n",
       "[1] 100\n",
       " [1] 130.6432 129.4597 129.4536 129.9282 132.9129 132.7616 130.1347 133.9869\n",
       " [9] 134.9480 131.3073\n",
       "Posterior inference {CausalImpact}\n",
       "\n",
       "                         Average        Cumulative  \n",
       "Actual                   155            4665        \n",
       "Prediction (s.d.)        146 (0.6)      4370 (18.1) \n",
       "95% CI                   [145, 147]     [4335, 4406]\n",
       "                                                    \n",
       "Absolute effect (s.d.)   9.8 (0.6)      294.6 (18.1)\n",
       "95% CI                   [8.6, 11]      [259.0, 330]\n",
       "                                                    \n",
       "Relative effect (s.d.)   6.7% (0.41%)   6.7% (0.41%)\n",
       "95% CI                   [5.9%, 7.5%]   [5.9%, 7.5%]\n",
       "\n",
       "Posterior tail-area probability p:   0.001\n",
       "Posterior prob. of a causal effect:  99.9%\n",
       "\n",
       "For more details, type: summary(impact, \"report\")\n",
       "\n",
       "              Actual      Pred Pred.lower Pred.upper    Pred.sd  AbsEffect\n",
       "Average     155.4881  145.6681   144.5001   146.8533  0.6022255   9.820053\n",
       "Cumulative 4664.6432 4370.0416  4335.0029  4405.5980 18.0667646 294.601588\n",
       "           AbsEffect.lower AbsEffect.upper AbsEffect.sd  RelEffect\n",
       "Average            8.63484        10.98801    0.6022255 0.06741391\n",
       "Cumulative       259.04521       329.64031   18.0667646 0.06741391\n",
       "           RelEffect.lower RelEffect.upper RelEffect.sd alpha     p\n",
       "Average         0.05927752      0.07543185  0.004134232  0.05 0.001\n",
       "Cumulative      0.05927752      0.07543185  0.004134232  0.05 0.001\n"
      ]
     },
     "metadata": {},
     "output_type": "display_data"
    },
    {
     "data": {
      "image/png": "[encoded data removed]"
     },
     "metadata": {},
     "output_type": "display_data"
    },
    {
     "data": {
      "image/png": "[encoded data removed]"
     },
     "metadata": {},
     "output_type": "display_data"
    }
   ],
   "source": [
    "%%R\n",
    "# generate fake data, run the model and plot results and print summary\n",
    "print(n_obs)\n",
    "print(r_pre_period_start)\n",
    "print(r_pre_period_end)\n",
    "print(r_post_period_start)\n",
    "print(r_post_period_end)\n",
    "\n",
    "# n_obs <- 100\n",
    "# r_pre_period_start <- 1\n",
    "# r_pre_period_end <- 70\n",
    "# r_post_period_start <- 71\n",
    "# r_post_period_end <- 100\n",
    "\n",
    "set.seed(10)\n",
    "x1 <- n_obs + arima.sim(model = list(ar = 0.999), n = n_obs)\n",
    "y <- 1.2 * x1 + rnorm(n_obs)\n",
    "y[r_post_period_start:n_obs] <- y[r_post_period_start:n_obs] + 10\n",
    "data <- cbind(y, x1)\n",
    "print(data[0:10])\n",
    "write.csv(data, file = \"causal_impact_toy_data.csv\")\n",
    "matplot(data, type = \"l\")\n",
    "pre.period <- c(r_pre_period_start, r_pre_period_end)\n",
    "post.period <- c(r_post_period_start, n_obs)\n",
    "impact <- CausalImpact(data, pre.period, post.period)\n",
    "summary(impact)\n",
    "print(impact$summary)\n",
    "plot(impact)\n"
   ]
  },
  {
   "cell_type": "markdown",
   "metadata": {
    "ExecuteTime": {
     "end_time": "2018-03-19T16:31:55.298552Z",
     "start_time": "2018-03-19T16:31:55.282349Z"
    }
   },
   "source": [
    "## CausalImpact using rpy2 with the same dataset generated by R above"
   ]
  },
  {
   "cell_type": "markdown",
   "metadata": {
    "ExecuteTime": {
     "end_time": "2018-03-19T17:37:51.821559Z",
     "start_time": "2018-03-19T17:37:51.803326Z"
    }
   },
   "source": [
    "Use the same file generated above to ensure consistency"
   ]
  },
  {
   "cell_type": "code",
   "execution_count": 9,
   "metadata": {
    "ExecuteTime": {
     "end_time": "2018-03-19T17:53:39.974045Z",
     "start_time": "2018-03-19T17:53:39.917949Z"
    }
   },
   "outputs": [
    {
     "name": "stdout",
     "output_type": "stream",
     "text": [
      "(100, 3)\n"
     ]
    },
    {
     "data": {
      "text/html": [
       "<div>\n",
       "<style scoped>\n",
       "    .dataframe tbody tr th:only-of-type {\n",
       "        vertical-align: middle;\n",
       "    }\n",
       "\n",
       "    .dataframe tbody tr th {\n",
       "        vertical-align: top;\n",
       "    }\n",
       "\n",
       "    .dataframe thead th {\n",
       "        text-align: right;\n",
       "    }\n",
       "</style>\n",
       "<table border=\"1\" class=\"dataframe\">\n",
       "  <thead>\n",
       "    <tr style=\"text-align: right;\">\n",
       "      <th></th>\n",
       "      <th>y</th>\n",
       "      <th>x1</th>\n",
       "    </tr>\n",
       "  </thead>\n",
       "  <tbody>\n",
       "    <tr>\n",
       "      <th>0</th>\n",
       "      <td>130.643162</td>\n",
       "      <td>108.336849</td>\n",
       "    </tr>\n",
       "    <tr>\n",
       "      <th>1</th>\n",
       "      <td>129.459734</td>\n",
       "      <td>108.193738</td>\n",
       "    </tr>\n",
       "    <tr>\n",
       "      <th>2</th>\n",
       "      <td>129.453591</td>\n",
       "      <td>109.276980</td>\n",
       "    </tr>\n",
       "    <tr>\n",
       "      <th>3</th>\n",
       "      <td>129.928183</td>\n",
       "      <td>107.955425</td>\n",
       "    </tr>\n",
       "    <tr>\n",
       "      <th>4</th>\n",
       "      <td>132.912943</td>\n",
       "      <td>109.351117</td>\n",
       "    </tr>\n",
       "  </tbody>\n",
       "</table>\n",
       "</div>"
      ],
      "text/plain": [
       "            y          x1\n",
       "0  130.643162  108.336849\n",
       "1  129.459734  108.193738\n",
       "2  129.453591  109.276980\n",
       "3  129.928183  107.955425\n",
       "4  132.912943  109.351117"
      ]
     },
     "execution_count": 9,
     "metadata": {},
     "output_type": "execute_result"
    }
   ],
   "source": [
    "df = pd.read_csv('causal_impact_toy_data.csv', index_col=False)\n",
    "print(df.shape)\n",
    "del df['Unnamed: 0']\n",
    "df.head()"
   ]
  },
  {
   "cell_type": "code",
   "execution_count": 10,
   "metadata": {
    "ExecuteTime": {
     "end_time": "2018-03-19T17:53:40.115545Z",
     "start_time": "2018-03-19T17:53:39.975475Z"
    }
   },
   "outputs": [
    {
     "data": {
      "text/plain": [
       "<matplotlib.legend.Legend at 0x7f6f256dff98>"
      ]
     },
     "execution_count": 10,
     "metadata": {},
     "output_type": "execute_result"
    },
    {
     "data": {
      "image/png": "[encoded data removed]",
      "text/plain": [
       "<Figure size 432x288 with 1 Axes>"
      ]
     },
     "metadata": {},
     "output_type": "display_data"
    }
   ],
   "source": [
    "fig, ax = plt.subplots(1, 1)\n",
    "ax.axvline(x=post_period['start'], label='change', color='black')\n",
    "ax = plt.plot(df.index, df['y'], color='C3', label='treatment timeline')\n",
    "ax = plt.plot(df.index, df['x1'], color='C0', label='control timeline', ls='dashed')\n",
    "plt.legend(bbox_to_anchor=(1.05, 1), borderaxespad=0.0)"
   ]
  },
  {
   "cell_type": "markdown",
   "metadata": {
    "ExecuteTime": {
     "end_time": "2018-03-19T17:38:15.284059Z",
     "start_time": "2018-03-19T17:38:15.268614Z"
    }
   },
   "source": [
    "### Run model in rpy2"
   ]
  },
  {
   "cell_type": "code",
   "execution_count": 11,
   "metadata": {
    "ExecuteTime": {
     "end_time": "2018-03-19T17:53:41.260977Z",
     "start_time": "2018-03-19T17:53:40.116942Z"
    }
   },
   "outputs": [
    {
     "data": {
      "text/plain": [
       "dict_keys(['series', 'summary', 'report', 'model'])"
      ]
     },
     "execution_count": 11,
     "metadata": {},
     "output_type": "execute_result"
    }
   ],
   "source": [
    "impact = causal.CausalImpact(\n",
    "    data=df.values,\n",
    "    pre_period=np.array([r_pre_period_start, r_pre_period_end]),\n",
    "    post_period=np.array([r_post_period_start, r_post_period_end]),\n",
    "    alpha=0.05)\n",
    "\n",
    "impact = dict(zip(impact.names, list(impact)))\n",
    "impact.keys()"
   ]
  },
  {
   "cell_type": "markdown",
   "metadata": {},
   "source": [
    "### Summary"
   ]
  },
  {
   "cell_type": "code",
   "execution_count": 12,
   "metadata": {
    "ExecuteTime": {
     "end_time": "2018-03-19T17:53:41.288223Z",
     "start_time": "2018-03-19T17:53:41.262486Z"
    }
   },
   "outputs": [
    {
     "name": "stdout",
     "output_type": "stream",
     "text": [
      "(2, 15)\n"
     ]
    },
    {
     "data": {
      "text/html": [
       "<div>\n",
       "<style scoped>\n",
       "    .dataframe tbody tr th:only-of-type {\n",
       "        vertical-align: middle;\n",
       "    }\n",
       "\n",
       "    .dataframe tbody tr th {\n",
       "        vertical-align: top;\n",
       "    }\n",
       "\n",
       "    .dataframe thead th {\n",
       "        text-align: right;\n",
       "    }\n",
       "</style>\n",
       "<table border=\"1\" class=\"dataframe\">\n",
       "  <thead>\n",
       "    <tr style=\"text-align: right;\">\n",
       "      <th></th>\n",
       "      <th>Average</th>\n",
       "      <th>Cumulative</th>\n",
       "    </tr>\n",
       "  </thead>\n",
       "  <tbody>\n",
       "    <tr>\n",
       "      <th>Actual</th>\n",
       "      <td>155.488107</td>\n",
       "      <td>4664.643218</td>\n",
       "    </tr>\n",
       "    <tr>\n",
       "      <th>Pred</th>\n",
       "      <td>145.668054</td>\n",
       "      <td>4370.041630</td>\n",
       "    </tr>\n",
       "    <tr>\n",
       "      <th>Pred.lower</th>\n",
       "      <td>144.499493</td>\n",
       "      <td>4334.984790</td>\n",
       "    </tr>\n",
       "    <tr>\n",
       "      <th>Pred.upper</th>\n",
       "      <td>146.894265</td>\n",
       "      <td>4406.827964</td>\n",
       "    </tr>\n",
       "    <tr>\n",
       "      <th>Pred.sd</th>\n",
       "      <td>0.614348</td>\n",
       "      <td>18.430426</td>\n",
       "    </tr>\n",
       "    <tr>\n",
       "      <th>AbsEffect</th>\n",
       "      <td>9.820053</td>\n",
       "      <td>294.601588</td>\n",
       "    </tr>\n",
       "    <tr>\n",
       "      <th>AbsEffect.lower</th>\n",
       "      <td>8.593842</td>\n",
       "      <td>257.815254</td>\n",
       "    </tr>\n",
       "    <tr>\n",
       "      <th>AbsEffect.upper</th>\n",
       "      <td>10.988614</td>\n",
       "      <td>329.658428</td>\n",
       "    </tr>\n",
       "    <tr>\n",
       "      <th>AbsEffect.sd</th>\n",
       "      <td>0.614348</td>\n",
       "      <td>18.430426</td>\n",
       "    </tr>\n",
       "    <tr>\n",
       "      <th>RelEffect</th>\n",
       "      <td>0.067414</td>\n",
       "      <td>0.067414</td>\n",
       "    </tr>\n",
       "    <tr>\n",
       "      <th>RelEffect.lower</th>\n",
       "      <td>0.058996</td>\n",
       "      <td>0.058996</td>\n",
       "    </tr>\n",
       "    <tr>\n",
       "      <th>RelEffect.upper</th>\n",
       "      <td>0.075436</td>\n",
       "      <td>0.075436</td>\n",
       "    </tr>\n",
       "    <tr>\n",
       "      <th>RelEffect.sd</th>\n",
       "      <td>0.004217</td>\n",
       "      <td>0.004217</td>\n",
       "    </tr>\n",
       "    <tr>\n",
       "      <th>alpha</th>\n",
       "      <td>0.050000</td>\n",
       "      <td>0.050000</td>\n",
       "    </tr>\n",
       "    <tr>\n",
       "      <th>p</th>\n",
       "      <td>0.001000</td>\n",
       "      <td>0.001000</td>\n",
       "    </tr>\n",
       "  </tbody>\n",
       "</table>\n",
       "</div>"
      ],
      "text/plain": [
       "                    Average   Cumulative\n",
       "Actual           155.488107  4664.643218\n",
       "Pred             145.668054  4370.041630\n",
       "Pred.lower       144.499493  4334.984790\n",
       "Pred.upper       146.894265  4406.827964\n",
       "Pred.sd            0.614348    18.430426\n",
       "AbsEffect          9.820053   294.601588\n",
       "AbsEffect.lower    8.593842   257.815254\n",
       "AbsEffect.upper   10.988614   329.658428\n",
       "AbsEffect.sd       0.614348    18.430426\n",
       "RelEffect          0.067414     0.067414\n",
       "RelEffect.lower    0.058996     0.058996\n",
       "RelEffect.upper    0.075436     0.075436\n",
       "RelEffect.sd       0.004217     0.004217\n",
       "alpha              0.050000     0.050000\n",
       "p                  0.001000     0.001000"
      ]
     },
     "execution_count": 12,
     "metadata": {},
     "output_type": "execute_result"
    }
   ],
   "source": [
    "df_summary = pandas2ri.ri2py(impact['summary'])\n",
    "print(df_summary.shape)\n",
    "df_summary.transpose()"
   ]
  },
  {
   "cell_type": "markdown",
   "metadata": {},
   "source": [
    "## Compared with Python tcassou/causal_impact (TODO)"
   ]
  },
  {
   "cell_type": "code",
   "execution_count": 13,
   "metadata": {
    "ExecuteTime": {
     "end_time": "2018-03-19T17:53:41.300125Z",
     "start_time": "2018-03-19T17:53:41.289748Z"
    }
   },
   "outputs": [],
   "source": [
    "# pip install causal-impact\n",
    "# https://github.com/tcassou/causal_impact"
   ]
  },
  {
   "cell_type": "markdown",
   "metadata": {
    "ExecuteTime": {
     "end_time": "2018-03-19T17:28:36.551438Z",
     "start_time": "2018-03-19T17:28:36.535817Z"
    }
   },
   "source": [
    "## Compared to Python jamalsenouci/causalimpact (TODO)"
   ]
  },
  {
   "cell_type": "code",
   "execution_count": 14,
   "metadata": {
    "ExecuteTime": {
     "end_time": "2018-03-19T17:53:41.311694Z",
     "start_time": "2018-03-19T17:53:41.301446Z"
    }
   },
   "outputs": [],
   "source": [
    "# pip install git+ssh://github.com/jamalsenouci/causalimpact.git\n",
    "# https://github.com/jamalsenouci/causalimpact"
   ]
  },
  {
   "cell_type": "markdown",
   "metadata": {},
   "source": [
    "## CausalImpact with rpy2 with fake data simulated using R's `arima.sim` (but no seed)"
   ]
  },
  {
   "cell_type": "markdown",
   "metadata": {},
   "source": [
    "This doesn't produce the same dataset as the first one in this notebook as there doesn't seem to be a way to set the seed in rpy2."
   ]
  },
  {
   "cell_type": "code",
   "execution_count": 15,
   "metadata": {
    "ExecuteTime": {
     "end_time": "2018-03-19T17:53:41.675645Z",
     "start_time": "2018-03-19T17:53:41.313045Z"
    }
   },
   "outputs": [
    {
     "data": {
      "text/plain": [
       "R object with classes: ('function',) mapped to:\n",
       "<DocumentedSTFunction - Python:0x7f6f1de4a348 / R:0x55d732402810>"
      ]
     },
     "execution_count": 15,
     "metadata": {},
     "output_type": "execute_result"
    }
   ],
   "source": [
    "arima_sim = importr('stats').arima_sim\n",
    "arima_sim"
   ]
  },
  {
   "cell_type": "markdown",
   "metadata": {},
   "source": [
    "### Generate control timeline"
   ]
  },
  {
   "cell_type": "code",
   "execution_count": 16,
   "metadata": {
    "ExecuteTime": {
     "end_time": "2018-03-19T17:53:41.691308Z",
     "start_time": "2018-03-19T17:53:41.677017Z"
    }
   },
   "outputs": [
    {
     "data": {
      "text/plain": [
       "array([ 90.47820677,  91.03632185,  91.5009729 ,  92.13232791,\n",
       "        92.43318728,  91.26895052,  92.53760666,  93.43321312,\n",
       "        93.07844593,  93.63378799,  95.15631612,  96.41977311,\n",
       "        96.51333924,  96.1872325 ,  96.95773269,  98.71690936,\n",
       "        98.28081367,  98.80106644,  99.20417331,  97.84940735,\n",
       "        97.91933176,  98.15723781, 100.13578608,  99.22729412,\n",
       "        98.83926497,  98.97762599,  99.62346648,  99.63451072,\n",
       "       100.3965656 ,  99.96820081, 100.151967  ,  99.34530944,\n",
       "       101.08021485, 101.18456441, 100.87495262, 101.25699749,\n",
       "       102.31107562, 103.51552097, 102.51420091, 102.97126159,\n",
       "       104.99433971, 103.26228035, 104.07860082, 103.87694967,\n",
       "       103.99592375, 103.04701706, 102.40213668, 101.94434661,\n",
       "       101.62005571, 101.65017375, 102.62597687, 103.56879064,\n",
       "       104.93324063, 104.03874971, 104.20998145, 104.07348083,\n",
       "       103.80993867, 104.1597191 , 105.02589546, 105.5630912 ,\n",
       "       105.24746863, 105.23952385, 106.39770591, 106.13124045,\n",
       "       105.31904639, 103.28199799, 102.040898  , 101.04185085,\n",
       "       101.51070822, 101.96596634, 100.6052604 , 102.56889689,\n",
       "       101.39556979, 100.38766746, 101.58627783, 101.92994543,\n",
       "       101.22199914, 101.39437666, 102.61190204, 103.62881623,\n",
       "       102.68574185, 102.43494864, 103.89055569, 105.17941268,\n",
       "       104.38840039, 107.06882373, 105.79069761, 105.09971538,\n",
       "       105.88471492, 106.01459306, 106.4028973 , 106.55011006,\n",
       "       106.42578272, 106.48767623, 105.98420166, 107.01556866,\n",
       "       107.58995512, 109.3844191 , 108.67094425, 108.5217137 ])"
      ]
     },
     "execution_count": 16,
     "metadata": {},
     "output_type": "execute_result"
    }
   ],
   "source": [
    "_x1 = arima_sim(model=ListVector({'ar': 0.999}),\n",
    "                n=n_obs)\n",
    "x1 = 100 + np.array(_x1)\n",
    "x1"
   ]
  },
  {
   "cell_type": "markdown",
   "metadata": {},
   "source": [
    "### Generate treatment timeline"
   ]
  },
  {
   "cell_type": "code",
   "execution_count": 17,
   "metadata": {
    "ExecuteTime": {
     "end_time": "2018-03-19T17:53:41.707742Z",
     "start_time": "2018-03-19T17:53:41.692615Z"
    }
   },
   "outputs": [
    {
     "data": {
      "text/plain": [
       "array([108.94926119, 110.42066365, 110.73174187, 110.48149044,\n",
       "       110.1759849 , 107.72568827, 110.69261074, 113.47193235,\n",
       "       112.16949782, 111.37550032, 114.96065179, 115.86307791,\n",
       "       115.89816456, 115.19824101, 116.34700798, 119.21376106,\n",
       "       118.36078776, 119.29550996, 119.40786397, 115.84486622,\n",
       "       116.72514565, 119.49751897, 121.96953914, 119.62417394,\n",
       "       118.73741641, 119.12587712, 118.88230407, 120.28249587,\n",
       "       123.33080701, 119.09096347, 118.96627964, 119.8882881 ,\n",
       "       121.21621124, 120.5332082 , 119.99287932, 121.81886012,\n",
       "       121.84809549, 123.47168822, 124.46072608, 122.84582309,\n",
       "       125.80491075, 124.07991132, 123.68399749, 124.62736352,\n",
       "       123.82674693, 123.28735557, 122.53088397, 123.41730508,\n",
       "       122.43116433, 121.58523744, 122.36732167, 123.75252677,\n",
       "       125.81186949, 125.61632623, 126.14666785, 124.53270825,\n",
       "       124.48820964, 124.322338  , 126.80784242, 125.8779114 ,\n",
       "       127.27657984, 126.75931053, 125.99765419, 127.26622898,\n",
       "       126.13165414, 126.13447189, 123.08329907, 120.90849268,\n",
       "       122.2417054 , 121.70468605, 129.10791382, 134.14540067,\n",
       "       136.84030957, 130.65622171, 128.92377967, 132.73792282,\n",
       "       126.96068517, 128.67648885, 132.27579826, 138.855181  ,\n",
       "       134.1883794 , 133.19515581, 130.96653297, 132.86791753,\n",
       "       131.17191811, 134.98900391, 135.27821017, 138.0231766 ,\n",
       "       140.75924094, 135.20451219, 139.46107803, 141.85913699,\n",
       "       133.92286931, 144.16118886, 136.84731648, 135.25654027,\n",
       "       136.62681399, 141.38768187, 143.87462767, 128.74976268])"
      ]
     },
     "execution_count": 17,
     "metadata": {},
     "output_type": "execute_result"
    }
   ],
   "source": [
    "# make the treatment timeline follow roughly the x1 timeline\n",
    "y = 1.2 * x1 + scipy_stats.norm.rvs(size=100)\n",
    "\n",
    "# add a random increase in post period normally centered around 10\n",
    "y_post = y[post_period['start']:post_period['end']]\n",
    "y_post += scipy_stats.norm.rvs(loc=10,\n",
    "                               scale=3,\n",
    "                               size=post_period['end'] - post_period['start'])\n",
    "y"
   ]
  },
  {
   "cell_type": "markdown",
   "metadata": {},
   "source": [
    "### Combine the two timelines"
   ]
  },
  {
   "cell_type": "code",
   "execution_count": 18,
   "metadata": {
    "ExecuteTime": {
     "end_time": "2018-03-19T17:53:41.724797Z",
     "start_time": "2018-03-19T17:53:41.709133Z"
    }
   },
   "outputs": [
    {
     "data": {
      "text/html": [
       "<div>\n",
       "<style scoped>\n",
       "    .dataframe tbody tr th:only-of-type {\n",
       "        vertical-align: middle;\n",
       "    }\n",
       "\n",
       "    .dataframe tbody tr th {\n",
       "        vertical-align: top;\n",
       "    }\n",
       "\n",
       "    .dataframe thead th {\n",
       "        text-align: right;\n",
       "    }\n",
       "</style>\n",
       "<table border=\"1\" class=\"dataframe\">\n",
       "  <thead>\n",
       "    <tr style=\"text-align: right;\">\n",
       "      <th></th>\n",
       "      <th>y</th>\n",
       "      <th>x1</th>\n",
       "    </tr>\n",
       "  </thead>\n",
       "  <tbody>\n",
       "    <tr>\n",
       "      <th>0</th>\n",
       "      <td>108.949261</td>\n",
       "      <td>90.478207</td>\n",
       "    </tr>\n",
       "    <tr>\n",
       "      <th>1</th>\n",
       "      <td>110.420664</td>\n",
       "      <td>91.036322</td>\n",
       "    </tr>\n",
       "    <tr>\n",
       "      <th>2</th>\n",
       "      <td>110.731742</td>\n",
       "      <td>91.500973</td>\n",
       "    </tr>\n",
       "    <tr>\n",
       "      <th>3</th>\n",
       "      <td>110.481490</td>\n",
       "      <td>92.132328</td>\n",
       "    </tr>\n",
       "    <tr>\n",
       "      <th>4</th>\n",
       "      <td>110.175985</td>\n",
       "      <td>92.433187</td>\n",
       "    </tr>\n",
       "  </tbody>\n",
       "</table>\n",
       "</div>"
      ],
      "text/plain": [
       "            y         x1\n",
       "0  108.949261  90.478207\n",
       "1  110.420664  91.036322\n",
       "2  110.731742  91.500973\n",
       "3  110.481490  92.132328\n",
       "4  110.175985  92.433187"
      ]
     },
     "execution_count": 18,
     "metadata": {},
     "output_type": "execute_result"
    }
   ],
   "source": [
    "df = pd.DataFrame(data=np.vstack((y, x1)).T, columns=['y', 'x1'])\n",
    "df.head()"
   ]
  },
  {
   "cell_type": "markdown",
   "metadata": {
    "ExecuteTime": {
     "end_time": "2018-03-19T16:54:11.503476Z",
     "start_time": "2018-03-19T16:54:11.490458Z"
    }
   },
   "source": [
    "### Plot the timelines"
   ]
  },
  {
   "cell_type": "code",
   "execution_count": 19,
   "metadata": {
    "ExecuteTime": {
     "end_time": "2018-03-19T17:53:41.843747Z",
     "start_time": "2018-03-19T17:53:41.726186Z"
    },
    "scrolled": true
   },
   "outputs": [
    {
     "data": {
      "text/plain": [
       "<matplotlib.legend.Legend at 0x7f6f1ddb67b8>"
      ]
     },
     "execution_count": 19,
     "metadata": {},
     "output_type": "execute_result"
    },
    {
     "data": {
      "image/png": "[encoded data removed]",
      "text/plain": [
       "<Figure size 432x288 with 1 Axes>"
      ]
     },
     "metadata": {},
     "output_type": "display_data"
    }
   ],
   "source": [
    "fig, ax = plt.subplots(1, 1)\n",
    "ax.axvline(x=post_period['start'], label='change', color='black')\n",
    "ax = plt.plot(df.index, df['y'], color='C3', label='treatment timeline')\n",
    "ax = plt.plot(df.index, df['x1'], color='C0', label='control timeline', ls='dashed')\n",
    "plt.legend(bbox_to_anchor=(1.05, 1), borderaxespad=0.0)"
   ]
  },
  {
   "cell_type": "markdown",
   "metadata": {},
   "source": [
    "### Run model"
   ]
  },
  {
   "cell_type": "code",
   "execution_count": 20,
   "metadata": {
    "ExecuteTime": {
     "end_time": "2018-03-19T17:53:42.432387Z",
     "start_time": "2018-03-19T17:53:41.845972Z"
    }
   },
   "outputs": [
    {
     "data": {
      "text/plain": [
       "dict_keys(['series', 'summary', 'report', 'model'])"
      ]
     },
     "execution_count": 20,
     "metadata": {},
     "output_type": "execute_result"
    }
   ],
   "source": [
    "impact = causal.CausalImpact(\n",
    "    data=df.values,\n",
    "    pre_period=np.array([r_pre_period_start, r_pre_period_end]),\n",
    "    post_period=np.array([r_post_period_start, r_post_period_end]),\n",
    "    model_args=ListVector({\n",
    "        'niter': 500,  # MCMC samples\n",
    "        'nseasons': 7   # 7 for daily observations\n",
    "    }),\n",
    "    alpha=0.05)\n",
    "\n",
    "impact = dict(zip(impact.names, list(impact)))\n",
    "impact.keys()"
   ]
  },
  {
   "cell_type": "markdown",
   "metadata": {},
   "source": [
    "### Summary"
   ]
  },
  {
   "cell_type": "code",
   "execution_count": 21,
   "metadata": {
    "ExecuteTime": {
     "end_time": "2018-03-19T17:53:42.457515Z",
     "start_time": "2018-03-19T17:53:42.434376Z"
    }
   },
   "outputs": [
    {
     "data": {
      "text/html": [
       "<div>\n",
       "<style scoped>\n",
       "    .dataframe tbody tr th:only-of-type {\n",
       "        vertical-align: middle;\n",
       "    }\n",
       "\n",
       "    .dataframe tbody tr th {\n",
       "        vertical-align: top;\n",
       "    }\n",
       "\n",
       "    .dataframe thead th {\n",
       "        text-align: right;\n",
       "    }\n",
       "</style>\n",
       "<table border=\"1\" class=\"dataframe\">\n",
       "  <thead>\n",
       "    <tr style=\"text-align: right;\">\n",
       "      <th></th>\n",
       "      <th>Average</th>\n",
       "      <th>Cumulative</th>\n",
       "    </tr>\n",
       "  </thead>\n",
       "  <tbody>\n",
       "    <tr>\n",
       "      <th>Actual</th>\n",
       "      <td>134.932359</td>\n",
       "      <td>4047.970765</td>\n",
       "    </tr>\n",
       "    <tr>\n",
       "      <th>Pred</th>\n",
       "      <td>125.558642</td>\n",
       "      <td>3766.759275</td>\n",
       "    </tr>\n",
       "    <tr>\n",
       "      <th>Pred.lower</th>\n",
       "      <td>124.472743</td>\n",
       "      <td>3734.182289</td>\n",
       "    </tr>\n",
       "    <tr>\n",
       "      <th>Pred.upper</th>\n",
       "      <td>126.451296</td>\n",
       "      <td>3793.538881</td>\n",
       "    </tr>\n",
       "    <tr>\n",
       "      <th>Pred.sd</th>\n",
       "      <td>0.513596</td>\n",
       "      <td>15.407888</td>\n",
       "    </tr>\n",
       "    <tr>\n",
       "      <th>AbsEffect</th>\n",
       "      <td>9.373716</td>\n",
       "      <td>281.211491</td>\n",
       "    </tr>\n",
       "    <tr>\n",
       "      <th>AbsEffect.lower</th>\n",
       "      <td>8.481063</td>\n",
       "      <td>254.431885</td>\n",
       "    </tr>\n",
       "    <tr>\n",
       "      <th>AbsEffect.upper</th>\n",
       "      <td>10.459616</td>\n",
       "      <td>313.788476</td>\n",
       "    </tr>\n",
       "    <tr>\n",
       "      <th>AbsEffect.sd</th>\n",
       "      <td>0.513596</td>\n",
       "      <td>15.407888</td>\n",
       "    </tr>\n",
       "    <tr>\n",
       "      <th>RelEffect</th>\n",
       "      <td>0.074656</td>\n",
       "      <td>0.074656</td>\n",
       "    </tr>\n",
       "    <tr>\n",
       "      <th>RelEffect.lower</th>\n",
       "      <td>0.067547</td>\n",
       "      <td>0.067547</td>\n",
       "    </tr>\n",
       "    <tr>\n",
       "      <th>RelEffect.upper</th>\n",
       "      <td>0.083305</td>\n",
       "      <td>0.083305</td>\n",
       "    </tr>\n",
       "    <tr>\n",
       "      <th>RelEffect.sd</th>\n",
       "      <td>0.004090</td>\n",
       "      <td>0.004090</td>\n",
       "    </tr>\n",
       "    <tr>\n",
       "      <th>alpha</th>\n",
       "      <td>0.050000</td>\n",
       "      <td>0.050000</td>\n",
       "    </tr>\n",
       "    <tr>\n",
       "      <th>p</th>\n",
       "      <td>0.002045</td>\n",
       "      <td>0.002045</td>\n",
       "    </tr>\n",
       "  </tbody>\n",
       "</table>\n",
       "</div>"
      ],
      "text/plain": [
       "                    Average   Cumulative\n",
       "Actual           134.932359  4047.970765\n",
       "Pred             125.558642  3766.759275\n",
       "Pred.lower       124.472743  3734.182289\n",
       "Pred.upper       126.451296  3793.538881\n",
       "Pred.sd            0.513596    15.407888\n",
       "AbsEffect          9.373716   281.211491\n",
       "AbsEffect.lower    8.481063   254.431885\n",
       "AbsEffect.upper   10.459616   313.788476\n",
       "AbsEffect.sd       0.513596    15.407888\n",
       "RelEffect          0.074656     0.074656\n",
       "RelEffect.lower    0.067547     0.067547\n",
       "RelEffect.upper    0.083305     0.083305\n",
       "RelEffect.sd       0.004090     0.004090\n",
       "alpha              0.050000     0.050000\n",
       "p                  0.002045     0.002045"
      ]
     },
     "execution_count": 21,
     "metadata": {},
     "output_type": "execute_result"
    }
   ],
   "source": [
    "df_summary = pandas2ri.ri2py(impact['summary'])\n",
    "df_summary.transpose()"
   ]
  },
  {
   "cell_type": "markdown",
   "metadata": {},
   "source": [
    "### Report"
   ]
  },
  {
   "cell_type": "code",
   "execution_count": 22,
   "metadata": {
    "ExecuteTime": {
     "end_time": "2018-03-19T17:53:42.900822Z",
     "start_time": "2018-03-19T17:53:42.885627Z"
    }
   },
   "outputs": [
    {
     "data": {
      "text/plain": [
       "'\\n\\nDuring the post-intervention period, the response variable had an average value of approx. 134.93. By contrast, in the absence of an intervention, we would have expected an average response of 125.56. The 95% interval of this counterfactual prediction is [124.47, 126.45]. Subtracting this prediction from the observed response yields an estimate of the causal effect the intervention had on the response variable. This effect is 9.37 with a 95% interval of [8.48, 10.46]. For a discussion of the significance of this effect, see below.\\n\\nSumming up the individual data points during the post-intervention period (which can only sometimes be meaningfully interpreted), the response variable had an overall value of 4.05K. By contrast, had the intervention not taken place, we would have expected a sum of 3.77K. The 95% interval of this prediction is [3.73K, 3.79K].\\n\\nThe above results are given in terms of absolute numbers. In relative terms, the response variable showed an increase of +7%. The 95% interval of this percentage is [+7%, +8%].\\n\\nThis means that the positive effect observed during the intervention period is statistically significant and unlikely to be due to random fluctuations. It should be noted, however, that the question of whether this increase also bears substantive significance can only be answered by comparing the absolute effect (9.37) to the original goal of the underlying intervention.\\n\\nThe probability of obtaining this effect by chance is very small (Bayesian one-sided tail-area probability p = 0.002). This means the causal effect can be considered statistically significant.'"
      ]
     },
     "execution_count": 22,
     "metadata": {},
     "output_type": "execute_result"
    }
   ],
   "source": [
    "impact['report'][0]"
   ]
  },
  {
   "cell_type": "markdown",
   "metadata": {},
   "source": [
    "### Model"
   ]
  },
  {
   "cell_type": "code",
   "execution_count": 23,
   "metadata": {
    "ExecuteTime": {
     "end_time": "2018-03-19T17:53:43.266465Z",
     "start_time": "2018-03-19T17:53:43.253784Z"
    }
   },
   "outputs": [
    {
     "data": {
      "text/plain": [
       "dict_keys(['pre.period', 'post.period', 'model.args', 'bsts.model', 'alpha'])"
      ]
     },
     "execution_count": 23,
     "metadata": {},
     "output_type": "execute_result"
    }
   ],
   "source": [
    "model = dict(zip(impact['model'].names, list(impact['model'])))\n",
    "model.keys()"
   ]
  },
  {
   "cell_type": "code",
   "execution_count": 24,
   "metadata": {
    "ExecuteTime": {
     "end_time": "2018-03-19T17:53:43.453149Z",
     "start_time": "2018-03-19T17:53:43.433065Z"
    }
   },
   "outputs": [
    {
     "data": {
      "text/html": [
       "<div>\n",
       "<style scoped>\n",
       "    .dataframe tbody tr th:only-of-type {\n",
       "        vertical-align: middle;\n",
       "    }\n",
       "\n",
       "    .dataframe tbody tr th {\n",
       "        vertical-align: top;\n",
       "    }\n",
       "\n",
       "    .dataframe thead th {\n",
       "        text-align: right;\n",
       "    }\n",
       "</style>\n",
       "<table border=\"1\" class=\"dataframe\">\n",
       "  <thead>\n",
       "    <tr style=\"text-align: right;\">\n",
       "      <th></th>\n",
       "      <th>dynamic.regression</th>\n",
       "      <th>niter</th>\n",
       "      <th>nseasons</th>\n",
       "      <th>prior.level.sd</th>\n",
       "      <th>season.duration</th>\n",
       "      <th>standardize.data</th>\n",
       "    </tr>\n",
       "  </thead>\n",
       "  <tbody>\n",
       "    <tr>\n",
       "      <th>0</th>\n",
       "      <td>False</td>\n",
       "      <td>500</td>\n",
       "      <td>7</td>\n",
       "      <td>0.01</td>\n",
       "      <td>1.0</td>\n",
       "      <td>True</td>\n",
       "    </tr>\n",
       "  </tbody>\n",
       "</table>\n",
       "</div>"
      ],
      "text/plain": [
       "   dynamic.regression  niter  nseasons  prior.level.sd  season.duration  \\\n",
       "0               False    500         7            0.01              1.0   \n",
       "\n",
       "   standardize.data  \n",
       "0              True  "
      ]
     },
     "execution_count": 24,
     "metadata": {},
     "output_type": "execute_result"
    }
   ],
   "source": [
    "model_args = dict(zip(model['model.args'].names, list(model['model.args'])))\n",
    "model_args.keys()\n",
    "model_args = pd.DataFrame({k: [v[0]] for k, v in model_args.items()})\n",
    "model_args"
   ]
  },
  {
   "cell_type": "code",
   "execution_count": 25,
   "metadata": {
    "ExecuteTime": {
     "end_time": "2018-03-19T17:53:43.659548Z",
     "start_time": "2018-03-19T17:53:43.642701Z"
    }
   },
   "outputs": [
    {
     "data": {
      "text/html": [
       "\n",
       "    <span>ListVector with 19 elements.</span>\n",
       "    <table>\n",
       "      <tbody>\n",
       "      \n",
       "      <tr>\n",
       "      <th>\n",
       "        coefficients\n",
       "      </th>\n",
       "      <td>\n",
       "        \n",
       "    <span>Matrix with 1000 elements.</span>\n",
       "    <table>\n",
       "      <tbody>\n",
       "      <tr>\n",
       "      \n",
       "      <td>\n",
       "        0.000000\n",
       "      </td>\n",
       "      \n",
       "      <td>\n",
       "        0.000000\n",
       "      </td>\n",
       "      \n",
       "      <td>\n",
       "        0.000000\n",
       "      </td>\n",
       "      \n",
       "      <td>\n",
       "        0.000000\n",
       "      </td>\n",
       "      \n",
       "      <td>\n",
       "        ...\n",
       "      </td>\n",
       "      \n",
       "      <td>\n",
       "        1.003902\n",
       "      </td>\n",
       "      \n",
       "      <td>\n",
       "        0.993193\n",
       "      </td>\n",
       "      \n",
       "      <td>\n",
       "        0.976822\n",
       "      </td>\n",
       "      \n",
       "      <td>\n",
       "        0.993464\n",
       "      </td>\n",
       "      \n",
       "      </tr>\n",
       "      </tbody>\n",
       "    </table>\n",
       "    \n",
       "      </td>\n",
       "      </tr>\n",
       "      \n",
       "      <tr>\n",
       "      <th>\n",
       "        sigma.obs\n",
       "      </th>\n",
       "      <td>\n",
       "        \n",
       "    <span>FloatVector with 500 elements.</span>\n",
       "    <table>\n",
       "      <tbody>\n",
       "      <tr>\n",
       "      \n",
       "      <td>\n",
       "        0.310175\n",
       "      </td>\n",
       "      \n",
       "      <td>\n",
       "        0.311539\n",
       "      </td>\n",
       "      \n",
       "      <td>\n",
       "        0.338225\n",
       "      </td>\n",
       "      \n",
       "      <td>\n",
       "        0.321502\n",
       "      </td>\n",
       "      \n",
       "      <td>\n",
       "        ...\n",
       "      </td>\n",
       "      \n",
       "      <td>\n",
       "        0.327533\n",
       "      </td>\n",
       "      \n",
       "      <td>\n",
       "        0.288530\n",
       "      </td>\n",
       "      \n",
       "      <td>\n",
       "        0.324340\n",
       "      </td>\n",
       "      \n",
       "      <td>\n",
       "        0.301387\n",
       "      </td>\n",
       "      \n",
       "      </tr>\n",
       "      </tbody>\n",
       "    </table>\n",
       "    \n",
       "      </td>\n",
       "      </tr>\n",
       "      \n",
       "      <tr>\n",
       "      <th>\n",
       "        sigma.level\n",
       "      </th>\n",
       "      <td>\n",
       "        \n",
       "    <span>FloatVector with 500 elements.</span>\n",
       "    <table>\n",
       "      <tbody>\n",
       "      <tr>\n",
       "      \n",
       "      <td>\n",
       "        0.010568\n",
       "      </td>\n",
       "      \n",
       "      <td>\n",
       "        0.010215\n",
       "      </td>\n",
       "      \n",
       "      <td>\n",
       "        0.010267\n",
       "      </td>\n",
       "      \n",
       "      <td>\n",
       "        0.010229\n",
       "      </td>\n",
       "      \n",
       "      <td>\n",
       "        ...\n",
       "      </td>\n",
       "      \n",
       "      <td>\n",
       "        0.009234\n",
       "      </td>\n",
       "      \n",
       "      <td>\n",
       "        0.008037\n",
       "      </td>\n",
       "      \n",
       "      <td>\n",
       "        0.007877\n",
       "      </td>\n",
       "      \n",
       "      <td>\n",
       "        0.007392\n",
       "      </td>\n",
       "      \n",
       "      </tr>\n",
       "      </tbody>\n",
       "    </table>\n",
       "    \n",
       "      </td>\n",
       "      </tr>\n",
       "      \n",
       "      <tr>\n",
       "      <th>\n",
       "        ...\n",
       "      </th>\n",
       "      <td>\n",
       "        ...\n",
       "      </td>\n",
       "      </tr>\n",
       "      \n",
       "      <tr>\n",
       "      <th>\n",
       "        xlevels\n",
       "      </th>\n",
       "      <td>\n",
       "        \n",
       "    <span>ListVector with 0 elements.</span>\n",
       "    <table>\n",
       "      <tbody>\n",
       "      \n",
       "      </tbody>\n",
       "    </table>\n",
       "    \n",
       "      </td>\n",
       "      </tr>\n",
       "      \n",
       "      <tr>\n",
       "      <th>\n",
       "        terms\n",
       "      </th>\n",
       "      <td>\n",
       "        y ~ x1\n",
       "attr(,\"variables\")\n",
       "list(y, x1)\n",
       "attr(,\"factors\")\n",
       "   x1\n",
       "y   0\n",
       "x1  1\n",
       "attr(,\"term.labels\")\n",
       "[1] \"x1\"\n",
       "attr(,\"order\")\n",
       "[1] 1\n",
       "attr(,\"intercept\")\n",
       "[1] 1\n",
       "attr(,\"response\")\n",
       "[1] 1\n",
       "attr(,\".Environment\")\n",
       "<environment: 0x55d733629d28>\n",
       "attr(,\"predvars\")\n",
       "list(y, x1)\n",
       "attr(,\"dataClasses\")\n",
       "        y        x1 \n",
       "\"numeric\" \"numeric\" \n",
       "\n",
       "      </td>\n",
       "      </tr>\n",
       "      \n",
       "      <tr>\n",
       "      <th>\n",
       "        predictors\n",
       "      </th>\n",
       "      <td>\n",
       "        \n",
       "    <span>Matrix with 200 elements.</span>\n",
       "    <table>\n",
       "      <tbody>\n",
       "      <tr>\n",
       "      \n",
       "      <td>\n",
       "        1.000000\n",
       "      </td>\n",
       "      \n",
       "      <td>\n",
       "        1.000000\n",
       "      </td>\n",
       "      \n",
       "      <td>\n",
       "        1.000000\n",
       "      </td>\n",
       "      \n",
       "      <td>\n",
       "        1.000000\n",
       "      </td>\n",
       "      \n",
       "      <td>\n",
       "        ...\n",
       "      </td>\n",
       "      \n",
       "      <td>\n",
       "        1.747956\n",
       "      </td>\n",
       "      \n",
       "      <td>\n",
       "        2.173030\n",
       "      </td>\n",
       "      \n",
       "      <td>\n",
       "        2.004022\n",
       "      </td>\n",
       "      \n",
       "      <td>\n",
       "        1.968672\n",
       "      </td>\n",
       "      \n",
       "      </tr>\n",
       "      </tbody>\n",
       "    </table>\n",
       "    \n",
       "      </td>\n",
       "      </tr>\n",
       "      \n",
       "      </tbody>\n",
       "    </table>\n",
       "    "
      ],
      "text/plain": [
       "R object with classes: ('bsts',) mapped to:\n",
       "<ListVector - Python:0x7f6f1ddd0e08 / R:0x55d7344a63f0>\n",
       "[Matrix, FloatVector, FloatVector, FloatVector, ..., FloatVector, ListVector, Formula, Matrix]\n",
       "  coefficients: <class 'rpy2.robjects.vectors.Matrix'>\n",
       "  R object with classes: ('matrix',) mapped to:\n",
       "<Matrix - Python:0x7f6f1dd21808 / R:0x55d735dfb460>\n",
       "[0.000000, 0.000000, 0.000000, 0.000000, ..., 1.003902, 0.993193, 0.976822, 0.993464]\n",
       "  sigma.obs: <class 'rpy2.robjects.vectors.FloatVector'>\n",
       "  R object with classes: ('numeric',) mapped to:\n",
       "<FloatVector - Python:0x7f6f1ddef688 / R:0x55d735e47de0>\n",
       "[0.310175, 0.311539, 0.338225, 0.321502, ..., 0.327533, 0.288530, 0.324340, 0.301387]\n",
       "  sigma.level: <class 'rpy2.robjects.vectors.FloatVector'>\n",
       "  R object with classes: ('numeric',) mapped to:\n",
       "<FloatVector - Python:0x7f6f1dd3a2c8 / R:0x55d735e48db0>\n",
       "[0.010568, 0.010215, 0.010267, 0.010229, ..., 0.009234, 0.008037, 0.007877, 0.007392]\n",
       "  sigma.seasonal.7: <class 'rpy2.robjects.vectors.FloatVector'>\n",
       "  R object with classes: ('numeric',) mapped to:\n",
       "<FloatVector - Python:0x7f6f1ddd0f48 / R:0x55d734f27370>\n",
       "[0.009707, 0.008203, 0.008454, 0.007876, ..., 0.018672, 0.020349, 0.021466, 0.024839]\n",
       "...\n",
       "  state.contributions: <class 'rpy2.robjects.vectors.FloatVector'>\n",
       "  R object with classes: ('zoo',) mapped to:\n",
       "<FloatVector - Python:0x7f6f1de45a48 / R:0x55d73387d830>\n",
       "[-2.239328, -1.949187, -1.887846, -1.937192, ..., NA_real_, NA_real_, NA_real_, NA_real_]\n",
       "R object with classes: ('bsts',) mapped to:\n",
       "<ListVector - Python:0x7f6f1ddd0e08 / R:0x55d7344a63f0>\n",
       "[Matrix, FloatVector, FloatVector, FloatVector, ..., FloatVector, ListVector, Formula, Matrix]\n",
       "  log.likelihood: <class 'rpy2.robjects.Formula'>\n",
       "  R object with classes: ('terms', 'formula') mapped to:\n",
       "<Formula - Python:0x7f6f1de3ca48 / R:0x55d7335d3b30>\n",
       "  has.regression: <class 'rpy2.robjects.vectors.Matrix'>\n",
       "  R object with classes: ('matrix',) mapped to:\n",
       "<Matrix - Python:0x7f6f1de3c508 / R:0x55d735d7a1a0>\n",
       "[1.000000, 1.000000, 1.000000, 1.000000, ..., 1.747956, 2.173030, 2.004022, 1.968672]"
      ]
     },
     "execution_count": 25,
     "metadata": {},
     "output_type": "execute_result"
    }
   ],
   "source": [
    "model['bsts.model']"
   ]
  },
  {
   "cell_type": "code",
   "execution_count": 26,
   "metadata": {
    "ExecuteTime": {
     "end_time": "2018-03-19T17:53:43.922889Z",
     "start_time": "2018-03-19T17:53:43.909244Z"
    }
   },
   "outputs": [
    {
     "name": "stdout",
     "output_type": "stream",
     "text": [
      "coefficients\n",
      "family\n",
      "final.state\n",
      "has.regression\n",
      "log.likelihood\n",
      "model.options\n",
      "niter\n",
      "one.step.prediction.errors\n",
      "original.series\n",
      "predictors\n",
      "prior\n",
      "sigma.level\n",
      "sigma.obs\n",
      "sigma.seasonal.7\n",
      "state.contributions\n",
      "state.specification\n",
      "terms\n",
      "timestamp.info\n",
      "xlevels\n"
     ]
    }
   ],
   "source": [
    "bsts_model = dict(zip(model['bsts.model'].names, list(model['bsts.model'])))\n",
    "for k in sorted(list(bsts_model.keys())):\n",
    "    print(k)"
   ]
  },
  {
   "cell_type": "markdown",
   "metadata": {},
   "source": [
    "### Breakdown"
   ]
  },
  {
   "cell_type": "code",
   "execution_count": 27,
   "metadata": {
    "ExecuteTime": {
     "end_time": "2018-03-19T17:53:44.319535Z",
     "start_time": "2018-03-19T17:53:44.303545Z"
    }
   },
   "outputs": [
    {
     "data": {
      "text/plain": [
       "(100, 14)"
      ]
     },
     "execution_count": 27,
     "metadata": {},
     "output_type": "execute_result"
    }
   ],
   "source": [
    "data = np.array(impact['series'])\n",
    "data.shape"
   ]
  },
  {
   "cell_type": "code",
   "execution_count": 28,
   "metadata": {
    "ExecuteTime": {
     "end_time": "2018-03-19T17:53:44.477215Z",
     "start_time": "2018-03-19T17:53:44.461487Z"
    }
   },
   "outputs": [
    {
     "data": {
      "text/plain": [
       "array(['response', 'cum.response', 'point.pred', 'point.pred.lower',\n",
       "       'point.pred.upper', 'cum.pred', 'cum.pred.lower', 'cum.pred.upper',\n",
       "       'point.effect', 'point.effect.lower', 'point.effect.upper',\n",
       "       'cum.effect', 'cum.effect.lower', 'cum.effect.upper'], dtype='<U18')"
      ]
     },
     "execution_count": 28,
     "metadata": {},
     "output_type": "execute_result"
    }
   ],
   "source": [
    "columns = np.array(list(impact['series'].names)[1])\n",
    "columns"
   ]
  },
  {
   "cell_type": "code",
   "execution_count": 29,
   "metadata": {
    "ExecuteTime": {
     "end_time": "2018-03-19T17:53:44.671512Z",
     "start_time": "2018-03-19T17:53:44.644243Z"
    }
   },
   "outputs": [
    {
     "name": "stdout",
     "output_type": "stream",
     "text": [
      "(100, 14)\n"
     ]
    },
    {
     "data": {
      "text/html": [
       "<div>\n",
       "<style scoped>\n",
       "    .dataframe tbody tr th:only-of-type {\n",
       "        vertical-align: middle;\n",
       "    }\n",
       "\n",
       "    .dataframe tbody tr th {\n",
       "        vertical-align: top;\n",
       "    }\n",
       "\n",
       "    .dataframe thead th {\n",
       "        text-align: right;\n",
       "    }\n",
       "</style>\n",
       "<table border=\"1\" class=\"dataframe\">\n",
       "  <thead>\n",
       "    <tr style=\"text-align: right;\">\n",
       "      <th></th>\n",
       "      <th>response</th>\n",
       "      <th>cum.response</th>\n",
       "      <th>point.pred</th>\n",
       "      <th>point.pred.lower</th>\n",
       "      <th>point.pred.upper</th>\n",
       "      <th>cum.pred</th>\n",
       "      <th>cum.pred.lower</th>\n",
       "      <th>cum.pred.upper</th>\n",
       "      <th>point.effect</th>\n",
       "      <th>point.effect.lower</th>\n",
       "      <th>point.effect.upper</th>\n",
       "      <th>cum.effect</th>\n",
       "      <th>cum.effect.lower</th>\n",
       "      <th>cum.effect.upper</th>\n",
       "    </tr>\n",
       "  </thead>\n",
       "  <tbody>\n",
       "    <tr>\n",
       "      <th>0</th>\n",
       "      <td>108.949261</td>\n",
       "      <td>108.949261</td>\n",
       "      <td>109.191474</td>\n",
       "      <td>105.764424</td>\n",
       "      <td>113.224244</td>\n",
       "      <td>108.949261</td>\n",
       "      <td>108.949261</td>\n",
       "      <td>108.949261</td>\n",
       "      <td>-0.242213</td>\n",
       "      <td>-4.274983</td>\n",
       "      <td>3.184837</td>\n",
       "      <td>0.0</td>\n",
       "      <td>0.0</td>\n",
       "      <td>0.0</td>\n",
       "    </tr>\n",
       "    <tr>\n",
       "      <th>1</th>\n",
       "      <td>110.420664</td>\n",
       "      <td>219.369925</td>\n",
       "      <td>109.438233</td>\n",
       "      <td>105.811874</td>\n",
       "      <td>112.602000</td>\n",
       "      <td>219.369925</td>\n",
       "      <td>219.369925</td>\n",
       "      <td>219.369925</td>\n",
       "      <td>0.982431</td>\n",
       "      <td>-2.181337</td>\n",
       "      <td>4.608790</td>\n",
       "      <td>0.0</td>\n",
       "      <td>0.0</td>\n",
       "      <td>0.0</td>\n",
       "    </tr>\n",
       "    <tr>\n",
       "      <th>2</th>\n",
       "      <td>110.731742</td>\n",
       "      <td>330.101667</td>\n",
       "      <td>109.987605</td>\n",
       "      <td>106.331734</td>\n",
       "      <td>113.435043</td>\n",
       "      <td>330.101667</td>\n",
       "      <td>330.101667</td>\n",
       "      <td>330.101667</td>\n",
       "      <td>0.744137</td>\n",
       "      <td>-2.703301</td>\n",
       "      <td>4.400008</td>\n",
       "      <td>0.0</td>\n",
       "      <td>0.0</td>\n",
       "      <td>0.0</td>\n",
       "    </tr>\n",
       "  </tbody>\n",
       "</table>\n",
       "</div>"
      ],
      "text/plain": [
       "     response  cum.response  point.pred  point.pred.lower  point.pred.upper  \\\n",
       "0  108.949261    108.949261  109.191474        105.764424        113.224244   \n",
       "1  110.420664    219.369925  109.438233        105.811874        112.602000   \n",
       "2  110.731742    330.101667  109.987605        106.331734        113.435043   \n",
       "\n",
       "     cum.pred  cum.pred.lower  cum.pred.upper  point.effect  \\\n",
       "0  108.949261      108.949261      108.949261     -0.242213   \n",
       "1  219.369925      219.369925      219.369925      0.982431   \n",
       "2  330.101667      330.101667      330.101667      0.744137   \n",
       "\n",
       "   point.effect.lower  point.effect.upper  cum.effect  cum.effect.lower  \\\n",
       "0           -4.274983            3.184837         0.0               0.0   \n",
       "1           -2.181337            4.608790         0.0               0.0   \n",
       "2           -2.703301            4.400008         0.0               0.0   \n",
       "\n",
       "   cum.effect.upper  \n",
       "0               0.0  \n",
       "1               0.0  \n",
       "2               0.0  "
      ]
     },
     "execution_count": 29,
     "metadata": {},
     "output_type": "execute_result"
    }
   ],
   "source": [
    "# one row per observation\n",
    "df_series = pd.DataFrame(data, columns=columns)\n",
    "cols = df_series.columns\n",
    "print(df_series.shape)\n",
    "df_series.head(3)"
   ]
  },
  {
   "cell_type": "markdown",
   "metadata": {},
   "source": [
    "### Matplotlib plot TODO"
   ]
  },
  {
   "cell_type": "markdown",
   "metadata": {},
   "source": [
    "Use df_series to plot response and CI bands"
   ]
  },
  {
   "cell_type": "code",
   "execution_count": null,
   "metadata": {},
   "outputs": [],
   "source": []
  }
 ],
 "metadata": {
  "hide_input": false,
  "kernelspec": {
   "display_name": "Python [conda env:py36]",
   "language": "python",
   "name": "conda-env-py36-py"
  },
  "language_info": {
   "codemirror_mode": {
    "name": "ipython",
    "version": 3
   },
   "file_extension": ".py",
   "mimetype": "text/x-python",
   "name": "python",
   "nbconvert_exporter": "python",
   "pygments_lexer": "ipython3",
   "version": "3.6.4"
  },
  "toc": {
   "nav_menu": {},
   "number_sections": false,
   "sideBar": true,
   "skip_h1_title": false,
   "title_cell": "Table of Contents",
   "title_sidebar": "Contents",
   "toc_cell": false,
   "toc_position": {
    "height": "calc(100% - 180px)",
    "left": "10px",
    "top": "150px",
    "width": "288px"
   },
   "toc_section_display": true,
   "toc_window_display": true
  }
 },
 "nbformat": 4,
 "nbformat_minor": 2
}
